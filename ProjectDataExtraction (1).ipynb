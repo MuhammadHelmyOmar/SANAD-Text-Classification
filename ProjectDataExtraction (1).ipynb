{
 "cells": [
  {
   "cell_type": "code",
   "execution_count": 22,
   "id": "a476f34d",
   "metadata": {},
   "outputs": [],
   "source": [
    "import os\n",
    "import codecs\n",
    "import pandas as pd "
   ]
  },
  {
   "cell_type": "code",
   "execution_count": 23,
   "id": "6a11e679",
   "metadata": {},
   "outputs": [
    {
     "data": {
      "text/plain": [
       "['Culture', 'Finance', 'Medical', 'Politics', 'Religion', 'Sports', 'Tech']"
      ]
     },
     "execution_count": 23,
     "metadata": {},
     "output_type": "execute_result"
    }
   ],
   "source": [
    "topics = os.listdir('E:\\College Crap\\Fall22\\CSCI417\\ProjectDataset\\Akhbarona')\n",
    "topics"
   ]
  },
  {
   "cell_type": "markdown",
   "id": "3f4226ba",
   "metadata": {},
   "source": [
    "# Extracting data from the folders and files"
   ]
  },
  {
   "cell_type": "code",
   "execution_count": 26,
   "id": "dd82d5fc",
   "metadata": {},
   "outputs": [],
   "source": [
    "dataset,y=[],[]\n",
    "for topic in topics:\n",
    "    i = 0\n",
    "    articles = [article for article in os.listdir(f'E:\\College Crap\\Fall22\\CSCI417\\ProjectDataset\\Akhbarona/{topic}')]\n",
    "    for article in articles:\n",
    "        if(i == 20):\n",
    "            break\n",
    "        else:\n",
    "            str1= \"\"\n",
    "            f=codecs.open(f'E:\\College Crap\\Fall22\\CSCI417\\ProjectDataset\\Akhbarona/{topic}/{article}', 'r',encoding='utf-8')\n",
    "            dataset.append(str1.join(f.readlines()))\n",
    "            y.append(topic) \n",
    "            i+=1"
   ]
  },
  {
   "cell_type": "code",
   "execution_count": 30,
   "id": "8b3e4c9f",
   "metadata": {},
   "outputs": [
    {
     "data": {
      "text/plain": [
       "'بالفيديو : الفنان الشعبي العمري يتهم الداودي و الصنهاجي و طاهور و \"5 سطار \" بسرقة أغانيه\\n\\n\\xa0\\nعبدالاله بوسحابة : اخبارنا المغربية\\nخرج الفنان الشعبي \" العمري \" من خلال حسابه الخاص على الفيسبوك بشريط فيديو ، تحدث من خلال لأزيد من 3 دقائق على ظاهرة القرصنة التي استفحلت حدتها بشكل كبير خلال السنوات الاخيرة ، حيث ذكر أسماء فنانين كبار في مجال الاغنية الشعبية ، و اتهمهم بقرصنة أغانيه التي سبق أن قام بتحفيظها بالمكتبة الوطنية ، حيث يتوفر على \\xa0نسخة تحفيظ بجميع أغانيه تؤكد صدق كلامه .\\n\\nالعمري صرح من خلال الفيديو بأنه نبه سابق الاسماء المذكورة ، و حذرها من أداء أغان هي في ملكيته ، حيث ذكر أسماء وازنة في عالم الاغنية الشعبية من قبيل الصهاجي ، الداودي ، ولد الخريبكي ، طاهور ، 5 سطار و حميد المرضي ...\\nموضوع قرصنة الكلمات و الالحان و الاغاني عموما يعود مجددا ليطرح نفسه بقوة ، في ظل غياب قوانين زجرية تلزم كل فنان بضرورة احترام حقوق و ملكية الآخرين ، دون المساس بها أو استغلالها لأغراض تجارية ربحية صرفة ، و هنا لابد من تدخل كل الجهات المتداخلة في الموضوع ، تفاديا لوقوع حالات مشابهة قد تشعل فتيل الفتنة بين الإخوة الفناني بالمغرب .'"
      ]
     },
     "execution_count": 30,
     "metadata": {},
     "output_type": "execute_result"
    }
   ],
   "source": [
    "df = pd.DataFrame(list(zip(dataset,y)),columns=['text','class'])\n",
    "df['text'][2]"
   ]
  },
  {
   "cell_type": "code",
   "execution_count": 28,
   "id": "dbb4cce1",
   "metadata": {},
   "outputs": [
    {
     "data": {
      "text/plain": [
       "str"
      ]
     },
     "execution_count": 28,
     "metadata": {},
     "output_type": "execute_result"
    }
   ],
   "source": [
    "type(df['text'][0])"
   ]
  },
  {
   "cell_type": "code",
   "execution_count": 36,
   "id": "9cea6f1b",
   "metadata": {},
   "outputs": [],
   "source": [
    "df.to_csv('E:\\College Crap\\Fall22\\CSCI417\\ProjectDataset\\data.csv')"
   ]
  },
  {
   "cell_type": "code",
   "execution_count": null,
   "id": "c0a776f4",
   "metadata": {},
   "outputs": [],
   "source": []
  }
 ],
 "metadata": {
  "kernelspec": {
   "display_name": "Python 3 (ipykernel)",
   "language": "python",
   "name": "python3"
  },
  "language_info": {
   "codemirror_mode": {
    "name": "ipython",
    "version": 3
   },
   "file_extension": ".py",
   "mimetype": "text/x-python",
   "name": "python",
   "nbconvert_exporter": "python",
   "pygments_lexer": "ipython3",
   "version": "3.9.12"
  }
 },
 "nbformat": 4,
 "nbformat_minor": 5
}
