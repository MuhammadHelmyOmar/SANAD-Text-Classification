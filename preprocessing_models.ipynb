{
  "cells": [
    {
      "cell_type": "markdown",
      "metadata": {
        "id": "pGK4KwsSELVf"
      },
      "source": [
        "# Reading Dataset"
      ]
    },
    {
      "cell_type": "code",
      "execution_count": 3,
      "metadata": {
        "colab": {
          "base_uri": "https://localhost:8080/"
        },
        "id": "j-XkZEy9zskX",
        "outputId": "d8f07cad-f3f1-4de0-d33e-f993d5fc1b89"
      },
      "outputs": [
        {
          "output_type": "execute_result",
          "data": {
            "text/plain": [
              "(14000, 2)"
            ]
          },
          "metadata": {},
          "execution_count": 3
        }
      ],
      "source": [
        "import pandas as pd\n",
        "\n",
        "dataset= pd.read_csv('data.csv')\n",
        "dataset.drop(dataset.columns[0], axis=1, inplace=True)\n",
        "dataset.head()\n",
        "dataset.shape"
      ]
    },
    {
      "cell_type": "code",
      "execution_count": 4,
      "metadata": {
        "colab": {
          "base_uri": "https://localhost:8080/",
          "height": 206
        },
        "id": "tiAqYCwaAFd_",
        "outputId": "eacc750b-44f6-46e6-b02d-be09c36ca63f"
      },
      "outputs": [
        {
          "output_type": "execute_result",
          "data": {
            "text/plain": [
              "                                                text    class\n",
              "0  يحيي كل من العروسي وعواطف وعمار والعنبري أمجاد...  Culture\n",
              "1  أخبارنا المغربية ـ هدى جميعي\\nتحول فنان مغربي ...  Culture\n",
              "2  بالفيديو : الفنان الشعبي العمري يتهم الداودي و...  Culture\n",
              "3  عبدالاله بوسحابة : اخبارنا المغربية\\nعلمنا في ...  Culture\n",
              "4  أخبارنا المغربية : حنان سلامة\\nكعادته كلما تعل...  Culture"
            ],
            "text/html": [
              "\n",
              "  <div id=\"df-20aab799-6e42-4c80-94f8-9b401a05bb28\">\n",
              "    <div class=\"colab-df-container\">\n",
              "      <div>\n",
              "<style scoped>\n",
              "    .dataframe tbody tr th:only-of-type {\n",
              "        vertical-align: middle;\n",
              "    }\n",
              "\n",
              "    .dataframe tbody tr th {\n",
              "        vertical-align: top;\n",
              "    }\n",
              "\n",
              "    .dataframe thead th {\n",
              "        text-align: right;\n",
              "    }\n",
              "</style>\n",
              "<table border=\"1\" class=\"dataframe\">\n",
              "  <thead>\n",
              "    <tr style=\"text-align: right;\">\n",
              "      <th></th>\n",
              "      <th>text</th>\n",
              "      <th>class</th>\n",
              "    </tr>\n",
              "  </thead>\n",
              "  <tbody>\n",
              "    <tr>\n",
              "      <th>0</th>\n",
              "      <td>يحيي كل من العروسي وعواطف وعمار والعنبري أمجاد...</td>\n",
              "      <td>Culture</td>\n",
              "    </tr>\n",
              "    <tr>\n",
              "      <th>1</th>\n",
              "      <td>أخبارنا المغربية ـ هدى جميعي\\nتحول فنان مغربي ...</td>\n",
              "      <td>Culture</td>\n",
              "    </tr>\n",
              "    <tr>\n",
              "      <th>2</th>\n",
              "      <td>بالفيديو : الفنان الشعبي العمري يتهم الداودي و...</td>\n",
              "      <td>Culture</td>\n",
              "    </tr>\n",
              "    <tr>\n",
              "      <th>3</th>\n",
              "      <td>عبدالاله بوسحابة : اخبارنا المغربية\\nعلمنا في ...</td>\n",
              "      <td>Culture</td>\n",
              "    </tr>\n",
              "    <tr>\n",
              "      <th>4</th>\n",
              "      <td>أخبارنا المغربية : حنان سلامة\\nكعادته كلما تعل...</td>\n",
              "      <td>Culture</td>\n",
              "    </tr>\n",
              "  </tbody>\n",
              "</table>\n",
              "</div>\n",
              "      <button class=\"colab-df-convert\" onclick=\"convertToInteractive('df-20aab799-6e42-4c80-94f8-9b401a05bb28')\"\n",
              "              title=\"Convert this dataframe to an interactive table.\"\n",
              "              style=\"display:none;\">\n",
              "        \n",
              "  <svg xmlns=\"http://www.w3.org/2000/svg\" height=\"24px\"viewBox=\"0 0 24 24\"\n",
              "       width=\"24px\">\n",
              "    <path d=\"M0 0h24v24H0V0z\" fill=\"none\"/>\n",
              "    <path d=\"M18.56 5.44l.94 2.06.94-2.06 2.06-.94-2.06-.94-.94-2.06-.94 2.06-2.06.94zm-11 1L8.5 8.5l.94-2.06 2.06-.94-2.06-.94L8.5 2.5l-.94 2.06-2.06.94zm10 10l.94 2.06.94-2.06 2.06-.94-2.06-.94-.94-2.06-.94 2.06-2.06.94z\"/><path d=\"M17.41 7.96l-1.37-1.37c-.4-.4-.92-.59-1.43-.59-.52 0-1.04.2-1.43.59L10.3 9.45l-7.72 7.72c-.78.78-.78 2.05 0 2.83L4 21.41c.39.39.9.59 1.41.59.51 0 1.02-.2 1.41-.59l7.78-7.78 2.81-2.81c.8-.78.8-2.07 0-2.86zM5.41 20L4 18.59l7.72-7.72 1.47 1.35L5.41 20z\"/>\n",
              "  </svg>\n",
              "      </button>\n",
              "      \n",
              "  <style>\n",
              "    .colab-df-container {\n",
              "      display:flex;\n",
              "      flex-wrap:wrap;\n",
              "      gap: 12px;\n",
              "    }\n",
              "\n",
              "    .colab-df-convert {\n",
              "      background-color: #E8F0FE;\n",
              "      border: none;\n",
              "      border-radius: 50%;\n",
              "      cursor: pointer;\n",
              "      display: none;\n",
              "      fill: #1967D2;\n",
              "      height: 32px;\n",
              "      padding: 0 0 0 0;\n",
              "      width: 32px;\n",
              "    }\n",
              "\n",
              "    .colab-df-convert:hover {\n",
              "      background-color: #E2EBFA;\n",
              "      box-shadow: 0px 1px 2px rgba(60, 64, 67, 0.3), 0px 1px 3px 1px rgba(60, 64, 67, 0.15);\n",
              "      fill: #174EA6;\n",
              "    }\n",
              "\n",
              "    [theme=dark] .colab-df-convert {\n",
              "      background-color: #3B4455;\n",
              "      fill: #D2E3FC;\n",
              "    }\n",
              "\n",
              "    [theme=dark] .colab-df-convert:hover {\n",
              "      background-color: #434B5C;\n",
              "      box-shadow: 0px 1px 3px 1px rgba(0, 0, 0, 0.15);\n",
              "      filter: drop-shadow(0px 1px 2px rgba(0, 0, 0, 0.3));\n",
              "      fill: #FFFFFF;\n",
              "    }\n",
              "  </style>\n",
              "\n",
              "      <script>\n",
              "        const buttonEl =\n",
              "          document.querySelector('#df-20aab799-6e42-4c80-94f8-9b401a05bb28 button.colab-df-convert');\n",
              "        buttonEl.style.display =\n",
              "          google.colab.kernel.accessAllowed ? 'block' : 'none';\n",
              "\n",
              "        async function convertToInteractive(key) {\n",
              "          const element = document.querySelector('#df-20aab799-6e42-4c80-94f8-9b401a05bb28');\n",
              "          const dataTable =\n",
              "            await google.colab.kernel.invokeFunction('convertToInteractive',\n",
              "                                                     [key], {});\n",
              "          if (!dataTable) return;\n",
              "\n",
              "          const docLinkHtml = 'Like what you see? Visit the ' +\n",
              "            '<a target=\"_blank\" href=https://colab.research.google.com/notebooks/data_table.ipynb>data table notebook</a>'\n",
              "            + ' to learn more about interactive tables.';\n",
              "          element.innerHTML = '';\n",
              "          dataTable['output_type'] = 'display_data';\n",
              "          await google.colab.output.renderOutput(dataTable, element);\n",
              "          const docLink = document.createElement('div');\n",
              "          docLink.innerHTML = docLinkHtml;\n",
              "          element.appendChild(docLink);\n",
              "        }\n",
              "      </script>\n",
              "    </div>\n",
              "  </div>\n",
              "  "
            ]
          },
          "metadata": {},
          "execution_count": 4
        }
      ],
      "source": [
        "dataset.dropna(axis=0,inplace=True)\n",
        "dataset.head()"
      ]
    },
    {
      "cell_type": "code",
      "execution_count": null,
      "metadata": {
        "id": "iCYUnWItA0L6",
        "outputId": "2796b74b-13b5-473d-fda0-d19072861423",
        "colab": {
          "base_uri": "https://localhost:8080/",
          "height": 331
        }
      },
      "outputs": [
        {
          "output_type": "stream",
          "name": "stdout",
          "text": [
            "<class 'pandas.core.frame.DataFrame'>\n",
            "Int64Index: 7000 entries, 0 to 6999\n",
            "Data columns (total 2 columns):\n",
            " #   Column  Non-Null Count  Dtype \n",
            "---  ------  --------------  ----- \n",
            " 0   text    7000 non-null   object\n",
            " 1   class   7000 non-null   object\n",
            "dtypes: object(2)\n",
            "memory usage: 164.1+ KB\n"
          ]
        },
        {
          "output_type": "execute_result",
          "data": {
            "text/plain": [
              "        text    class\n",
              "count   7000     7000\n",
              "unique  6986        7\n",
              "top       []  Culture\n",
              "freq       7     1000"
            ],
            "text/html": [
              "\n",
              "  <div id=\"df-33244ea8-c7dc-4ad5-8f73-408a5ea32a2e\">\n",
              "    <div class=\"colab-df-container\">\n",
              "      <div>\n",
              "<style scoped>\n",
              "    .dataframe tbody tr th:only-of-type {\n",
              "        vertical-align: middle;\n",
              "    }\n",
              "\n",
              "    .dataframe tbody tr th {\n",
              "        vertical-align: top;\n",
              "    }\n",
              "\n",
              "    .dataframe thead th {\n",
              "        text-align: right;\n",
              "    }\n",
              "</style>\n",
              "<table border=\"1\" class=\"dataframe\">\n",
              "  <thead>\n",
              "    <tr style=\"text-align: right;\">\n",
              "      <th></th>\n",
              "      <th>text</th>\n",
              "      <th>class</th>\n",
              "    </tr>\n",
              "  </thead>\n",
              "  <tbody>\n",
              "    <tr>\n",
              "      <th>count</th>\n",
              "      <td>7000</td>\n",
              "      <td>7000</td>\n",
              "    </tr>\n",
              "    <tr>\n",
              "      <th>unique</th>\n",
              "      <td>6986</td>\n",
              "      <td>7</td>\n",
              "    </tr>\n",
              "    <tr>\n",
              "      <th>top</th>\n",
              "      <td>[]</td>\n",
              "      <td>Culture</td>\n",
              "    </tr>\n",
              "    <tr>\n",
              "      <th>freq</th>\n",
              "      <td>7</td>\n",
              "      <td>1000</td>\n",
              "    </tr>\n",
              "  </tbody>\n",
              "</table>\n",
              "</div>\n",
              "      <button class=\"colab-df-convert\" onclick=\"convertToInteractive('df-33244ea8-c7dc-4ad5-8f73-408a5ea32a2e')\"\n",
              "              title=\"Convert this dataframe to an interactive table.\"\n",
              "              style=\"display:none;\">\n",
              "        \n",
              "  <svg xmlns=\"http://www.w3.org/2000/svg\" height=\"24px\"viewBox=\"0 0 24 24\"\n",
              "       width=\"24px\">\n",
              "    <path d=\"M0 0h24v24H0V0z\" fill=\"none\"/>\n",
              "    <path d=\"M18.56 5.44l.94 2.06.94-2.06 2.06-.94-2.06-.94-.94-2.06-.94 2.06-2.06.94zm-11 1L8.5 8.5l.94-2.06 2.06-.94-2.06-.94L8.5 2.5l-.94 2.06-2.06.94zm10 10l.94 2.06.94-2.06 2.06-.94-2.06-.94-.94-2.06-.94 2.06-2.06.94z\"/><path d=\"M17.41 7.96l-1.37-1.37c-.4-.4-.92-.59-1.43-.59-.52 0-1.04.2-1.43.59L10.3 9.45l-7.72 7.72c-.78.78-.78 2.05 0 2.83L4 21.41c.39.39.9.59 1.41.59.51 0 1.02-.2 1.41-.59l7.78-7.78 2.81-2.81c.8-.78.8-2.07 0-2.86zM5.41 20L4 18.59l7.72-7.72 1.47 1.35L5.41 20z\"/>\n",
              "  </svg>\n",
              "      </button>\n",
              "      \n",
              "  <style>\n",
              "    .colab-df-container {\n",
              "      display:flex;\n",
              "      flex-wrap:wrap;\n",
              "      gap: 12px;\n",
              "    }\n",
              "\n",
              "    .colab-df-convert {\n",
              "      background-color: #E8F0FE;\n",
              "      border: none;\n",
              "      border-radius: 50%;\n",
              "      cursor: pointer;\n",
              "      display: none;\n",
              "      fill: #1967D2;\n",
              "      height: 32px;\n",
              "      padding: 0 0 0 0;\n",
              "      width: 32px;\n",
              "    }\n",
              "\n",
              "    .colab-df-convert:hover {\n",
              "      background-color: #E2EBFA;\n",
              "      box-shadow: 0px 1px 2px rgba(60, 64, 67, 0.3), 0px 1px 3px 1px rgba(60, 64, 67, 0.15);\n",
              "      fill: #174EA6;\n",
              "    }\n",
              "\n",
              "    [theme=dark] .colab-df-convert {\n",
              "      background-color: #3B4455;\n",
              "      fill: #D2E3FC;\n",
              "    }\n",
              "\n",
              "    [theme=dark] .colab-df-convert:hover {\n",
              "      background-color: #434B5C;\n",
              "      box-shadow: 0px 1px 3px 1px rgba(0, 0, 0, 0.15);\n",
              "      filter: drop-shadow(0px 1px 2px rgba(0, 0, 0, 0.3));\n",
              "      fill: #FFFFFF;\n",
              "    }\n",
              "  </style>\n",
              "\n",
              "      <script>\n",
              "        const buttonEl =\n",
              "          document.querySelector('#df-33244ea8-c7dc-4ad5-8f73-408a5ea32a2e button.colab-df-convert');\n",
              "        buttonEl.style.display =\n",
              "          google.colab.kernel.accessAllowed ? 'block' : 'none';\n",
              "\n",
              "        async function convertToInteractive(key) {\n",
              "          const element = document.querySelector('#df-33244ea8-c7dc-4ad5-8f73-408a5ea32a2e');\n",
              "          const dataTable =\n",
              "            await google.colab.kernel.invokeFunction('convertToInteractive',\n",
              "                                                     [key], {});\n",
              "          if (!dataTable) return;\n",
              "\n",
              "          const docLinkHtml = 'Like what you see? Visit the ' +\n",
              "            '<a target=\"_blank\" href=https://colab.research.google.com/notebooks/data_table.ipynb>data table notebook</a>'\n",
              "            + ' to learn more about interactive tables.';\n",
              "          element.innerHTML = '';\n",
              "          dataTable['output_type'] = 'display_data';\n",
              "          await google.colab.output.renderOutput(dataTable, element);\n",
              "          const docLink = document.createElement('div');\n",
              "          docLink.innerHTML = docLinkHtml;\n",
              "          element.appendChild(docLink);\n",
              "        }\n",
              "      </script>\n",
              "    </div>\n",
              "  </div>\n",
              "  "
            ]
          },
          "metadata": {},
          "execution_count": 30
        }
      ],
      "source": [
        "dataset.info()\n",
        "dataset.describe()"
      ]
    },
    {
      "cell_type": "markdown",
      "metadata": {
        "id": "GdABL_pwOlFv"
      },
      "source": [
        "# Exploratory Data Analysis"
      ]
    },
    {
      "cell_type": "code",
      "execution_count": null,
      "metadata": {
        "id": "HzzwH0oeNJ_s",
        "colab": {
          "base_uri": "https://localhost:8080/"
        },
        "outputId": "ed086759-ca82-47bf-f448-2bb5aa269b95"
      },
      "outputs": [
        {
          "output_type": "stream",
          "name": "stderr",
          "text": [
            "[nltk_data] Downloading package stopwords to /root/nltk_data...\n",
            "[nltk_data]   Package stopwords is already up-to-date!\n"
          ]
        }
      ],
      "source": [
        "import nltk\n",
        "nltk.download('stopwords')\n",
        "stop=set(nltk.corpus.stopwords.words(\"arabic\"))"
      ]
    },
    {
      "cell_type": "code",
      "source": [
        "# Text length analysis \n",
        "def avg_word(sentence):\n",
        "    words = sentence.split()\n",
        "    if len(words) == 0:\n",
        "        return 0\n",
        "    return (sum(len(word) for word in words)/len(words))"
      ],
      "metadata": {
        "id": "3WtiX64tW2Ph"
      },
      "execution_count": null,
      "outputs": []
    },
    {
      "cell_type": "code",
      "execution_count": null,
      "metadata": {
        "id": "NbgS9JsHO1Dv",
        "colab": {
          "base_uri": "https://localhost:8080/",
          "height": 206
        },
        "outputId": "8fd0118d-d643-423b-de40-0ec25231c229"
      },
      "outputs": [
        {
          "output_type": "execute_result",
          "data": {
            "text/plain": [
              "                                                   text     class  word_count  \\\n",
              "3914  ['من الخطاب الملكي في 9 مارس، إلى الانتخابات ا...  Politics        4890   \n",
              "4337  ['الحمد لله نحمده، ونستعينه، ونستغفره، ونعوذ ب...  Religion        4327   \n",
              "241   [\"شهد المشهد الثقافي والفني المغربي خلال العام...   Culture        4177   \n",
              "4184  ['إن الحمد لله نحمده ونستعينه ونستغفره ، ونعوذ...  Religion        3667   \n",
              "4182  ['العالم الإسلامي خُدع بإيران وبحزب الله وأحدا...  Religion        3316   \n",
              "\n",
              "      char_count  avg_char_per_word  stopwords  \n",
              "3914       29109           5.360779        939  \n",
              "4337       23823           4.505893        998  \n",
              "241        26898           5.439789        805  \n",
              "4184       18242           3.974911        772  \n",
              "4182       18249           4.503619        800  "
            ],
            "text/html": [
              "\n",
              "  <div id=\"df-fc6c5572-69e7-4a4b-8b4f-6ebec79cf1b5\">\n",
              "    <div class=\"colab-df-container\">\n",
              "      <div>\n",
              "<style scoped>\n",
              "    .dataframe tbody tr th:only-of-type {\n",
              "        vertical-align: middle;\n",
              "    }\n",
              "\n",
              "    .dataframe tbody tr th {\n",
              "        vertical-align: top;\n",
              "    }\n",
              "\n",
              "    .dataframe thead th {\n",
              "        text-align: right;\n",
              "    }\n",
              "</style>\n",
              "<table border=\"1\" class=\"dataframe\">\n",
              "  <thead>\n",
              "    <tr style=\"text-align: right;\">\n",
              "      <th></th>\n",
              "      <th>text</th>\n",
              "      <th>class</th>\n",
              "      <th>word_count</th>\n",
              "      <th>char_count</th>\n",
              "      <th>avg_char_per_word</th>\n",
              "      <th>stopwords</th>\n",
              "    </tr>\n",
              "  </thead>\n",
              "  <tbody>\n",
              "    <tr>\n",
              "      <th>3914</th>\n",
              "      <td>['من الخطاب الملكي في 9 مارس، إلى الانتخابات ا...</td>\n",
              "      <td>Politics</td>\n",
              "      <td>4890</td>\n",
              "      <td>29109</td>\n",
              "      <td>5.360779</td>\n",
              "      <td>939</td>\n",
              "    </tr>\n",
              "    <tr>\n",
              "      <th>4337</th>\n",
              "      <td>['الحمد لله نحمده، ونستعينه، ونستغفره، ونعوذ ب...</td>\n",
              "      <td>Religion</td>\n",
              "      <td>4327</td>\n",
              "      <td>23823</td>\n",
              "      <td>4.505893</td>\n",
              "      <td>998</td>\n",
              "    </tr>\n",
              "    <tr>\n",
              "      <th>241</th>\n",
              "      <td>[\"شهد المشهد الثقافي والفني المغربي خلال العام...</td>\n",
              "      <td>Culture</td>\n",
              "      <td>4177</td>\n",
              "      <td>26898</td>\n",
              "      <td>5.439789</td>\n",
              "      <td>805</td>\n",
              "    </tr>\n",
              "    <tr>\n",
              "      <th>4184</th>\n",
              "      <td>['إن الحمد لله نحمده ونستعينه ونستغفره ، ونعوذ...</td>\n",
              "      <td>Religion</td>\n",
              "      <td>3667</td>\n",
              "      <td>18242</td>\n",
              "      <td>3.974911</td>\n",
              "      <td>772</td>\n",
              "    </tr>\n",
              "    <tr>\n",
              "      <th>4182</th>\n",
              "      <td>['العالم الإسلامي خُدع بإيران وبحزب الله وأحدا...</td>\n",
              "      <td>Religion</td>\n",
              "      <td>3316</td>\n",
              "      <td>18249</td>\n",
              "      <td>4.503619</td>\n",
              "      <td>800</td>\n",
              "    </tr>\n",
              "  </tbody>\n",
              "</table>\n",
              "</div>\n",
              "      <button class=\"colab-df-convert\" onclick=\"convertToInteractive('df-fc6c5572-69e7-4a4b-8b4f-6ebec79cf1b5')\"\n",
              "              title=\"Convert this dataframe to an interactive table.\"\n",
              "              style=\"display:none;\">\n",
              "        \n",
              "  <svg xmlns=\"http://www.w3.org/2000/svg\" height=\"24px\"viewBox=\"0 0 24 24\"\n",
              "       width=\"24px\">\n",
              "    <path d=\"M0 0h24v24H0V0z\" fill=\"none\"/>\n",
              "    <path d=\"M18.56 5.44l.94 2.06.94-2.06 2.06-.94-2.06-.94-.94-2.06-.94 2.06-2.06.94zm-11 1L8.5 8.5l.94-2.06 2.06-.94-2.06-.94L8.5 2.5l-.94 2.06-2.06.94zm10 10l.94 2.06.94-2.06 2.06-.94-2.06-.94-.94-2.06-.94 2.06-2.06.94z\"/><path d=\"M17.41 7.96l-1.37-1.37c-.4-.4-.92-.59-1.43-.59-.52 0-1.04.2-1.43.59L10.3 9.45l-7.72 7.72c-.78.78-.78 2.05 0 2.83L4 21.41c.39.39.9.59 1.41.59.51 0 1.02-.2 1.41-.59l7.78-7.78 2.81-2.81c.8-.78.8-2.07 0-2.86zM5.41 20L4 18.59l7.72-7.72 1.47 1.35L5.41 20z\"/>\n",
              "  </svg>\n",
              "      </button>\n",
              "      \n",
              "  <style>\n",
              "    .colab-df-container {\n",
              "      display:flex;\n",
              "      flex-wrap:wrap;\n",
              "      gap: 12px;\n",
              "    }\n",
              "\n",
              "    .colab-df-convert {\n",
              "      background-color: #E8F0FE;\n",
              "      border: none;\n",
              "      border-radius: 50%;\n",
              "      cursor: pointer;\n",
              "      display: none;\n",
              "      fill: #1967D2;\n",
              "      height: 32px;\n",
              "      padding: 0 0 0 0;\n",
              "      width: 32px;\n",
              "    }\n",
              "\n",
              "    .colab-df-convert:hover {\n",
              "      background-color: #E2EBFA;\n",
              "      box-shadow: 0px 1px 2px rgba(60, 64, 67, 0.3), 0px 1px 3px 1px rgba(60, 64, 67, 0.15);\n",
              "      fill: #174EA6;\n",
              "    }\n",
              "\n",
              "    [theme=dark] .colab-df-convert {\n",
              "      background-color: #3B4455;\n",
              "      fill: #D2E3FC;\n",
              "    }\n",
              "\n",
              "    [theme=dark] .colab-df-convert:hover {\n",
              "      background-color: #434B5C;\n",
              "      box-shadow: 0px 1px 3px 1px rgba(0, 0, 0, 0.15);\n",
              "      filter: drop-shadow(0px 1px 2px rgba(0, 0, 0, 0.3));\n",
              "      fill: #FFFFFF;\n",
              "    }\n",
              "  </style>\n",
              "\n",
              "      <script>\n",
              "        const buttonEl =\n",
              "          document.querySelector('#df-fc6c5572-69e7-4a4b-8b4f-6ebec79cf1b5 button.colab-df-convert');\n",
              "        buttonEl.style.display =\n",
              "          google.colab.kernel.accessAllowed ? 'block' : 'none';\n",
              "\n",
              "        async function convertToInteractive(key) {\n",
              "          const element = document.querySelector('#df-fc6c5572-69e7-4a4b-8b4f-6ebec79cf1b5');\n",
              "          const dataTable =\n",
              "            await google.colab.kernel.invokeFunction('convertToInteractive',\n",
              "                                                     [key], {});\n",
              "          if (!dataTable) return;\n",
              "\n",
              "          const docLinkHtml = 'Like what you see? Visit the ' +\n",
              "            '<a target=\"_blank\" href=https://colab.research.google.com/notebooks/data_table.ipynb>data table notebook</a>'\n",
              "            + ' to learn more about interactive tables.';\n",
              "          element.innerHTML = '';\n",
              "          dataTable['output_type'] = 'display_data';\n",
              "          await google.colab.output.renderOutput(dataTable, element);\n",
              "          const docLink = document.createElement('div');\n",
              "          docLink.innerHTML = docLinkHtml;\n",
              "          element.appendChild(docLink);\n",
              "        }\n",
              "      </script>\n",
              "    </div>\n",
              "  </div>\n",
              "  "
            ]
          },
          "metadata": {},
          "execution_count": 33
        }
      ],
      "source": [
        "dataset['word_count']= dataset['text'].apply(lambda x:len(str(x).split(\" \")))\n",
        "dataset['char_count']= dataset['text'].str.len()\n",
        "dataset['avg_char_per_word'] = dataset['text'].apply(lambda x: avg_word(x))\n",
        "dataset['stopwords']=dataset['text'].apply(lambda x: len([y for y in x.split() if y in stop]))\n",
        "dataset=dataset.sort_values(by='word_count',ascending=[0])\n",
        "dataset.head()"
      ]
    },
    {
      "cell_type": "code",
      "execution_count": null,
      "metadata": {
        "id": "M5qxXj9BQEO3",
        "colab": {
          "base_uri": "https://localhost:8080/"
        },
        "outputId": "dfd7c312-81c6-451e-93bd-487244c6c640"
      },
      "outputs": [
        {
          "output_type": "stream",
          "name": "stderr",
          "text": [
            "<ipython-input-34-7774186bba3a>:1: FutureWarning: Dropping of nuisance columns in DataFrame reductions (with 'numeric_only=None') is deprecated; in a future version this will raise TypeError.  Select only valid columns before calling the reduction.\n",
            "  dataset_stat=dataset.mean(axis=0)\n"
          ]
        },
        {
          "output_type": "execute_result",
          "data": {
            "text/plain": [
              "word_count            272.649000\n",
              "char_count           1639.022571\n",
              "avg_char_per_word       5.119287\n",
              "stopwords              55.581143\n",
              "dtype: float64"
            ]
          },
          "metadata": {},
          "execution_count": 34
        }
      ],
      "source": [
        "dataset_stat=dataset.mean(axis=0)\n",
        "dataset_stat"
      ]
    },
    {
      "cell_type": "markdown",
      "metadata": {
        "id": "FcFoVv_4hX8x"
      },
      "source": [
        "# Text Preprocessing"
      ]
    },
    {
      "cell_type": "markdown",
      "source": [
        "Punkt: It is a module in nltk used to tokenize text. It is made to learn parameters from a corpus in an unsupervised way that "
      ],
      "metadata": {
        "id": "7WpbuPP53k1e"
      }
    },
    {
      "cell_type": "code",
      "source": [
        "nltk.download('punkt')\n",
        "from nltk.corpus.reader.tagged import word_tokenize\n",
        "from nltk import tokenize"
      ],
      "metadata": {
        "colab": {
          "base_uri": "https://localhost:8080/"
        },
        "id": "oOv4yXK6F2gp",
        "outputId": "46baceef-b241-44fa-d6d3-342f0ca92396"
      },
      "execution_count": null,
      "outputs": [
        {
          "output_type": "stream",
          "name": "stderr",
          "text": [
            "[nltk_data] Downloading package punkt to /root/nltk_data...\n",
            "[nltk_data]   Package punkt is already up-to-date!\n"
          ]
        }
      ]
    },
    {
      "cell_type": "code",
      "execution_count": null,
      "metadata": {
        "id": "oA53_qL2hbxE",
        "colab": {
          "base_uri": "https://localhost:8080/",
          "height": 337
        },
        "outputId": "983da5dc-bd67-43ea-dd0a-1f065b90a6ad"
      },
      "outputs": [
        {
          "output_type": "execute_result",
          "data": {
            "text/plain": [
              "                                                   text     class  word_count  \\\n",
              "3914  ['من الخطاب الملكي في 9 مارس، إلى الانتخابات ا...  Politics        4890   \n",
              "4337  ['الحمد لله نحمده، ونستعينه، ونستغفره، ونعوذ ب...  Religion        4327   \n",
              "241   [\"شهد المشهد الثقافي والفني المغربي خلال العام...   Culture        4177   \n",
              "4184  ['إن الحمد لله نحمده ونستعينه ونستغفره ، ونعوذ...  Religion        3667   \n",
              "4182  ['العالم الإسلامي خُدع بإيران وبحزب الله وأحدا...  Religion        3316   \n",
              "\n",
              "      char_count  avg_char_per_word  stopwords  \\\n",
              "3914       29109           5.360779        939   \n",
              "4337       23823           4.505893        998   \n",
              "241        26898           5.439789        805   \n",
              "4184       18242           3.974911        772   \n",
              "4182       18249           4.503619        800   \n",
              "\n",
              "                                         noStop_article  \n",
              "3914  'من الخطاب الملكي مارس، الانتخابات التشريعية ي...  \n",
              "4337  'الحمد لله نحمده، ونستعينه، ونستغفره، ونعوذ با...  \n",
              "241   `` شهد المشهد الثقافي والفني المغربي خلال العا...  \n",
              "4184  'إن الحمد لله نحمده ونستعينه ونستغفره ونعوذ با...  \n",
              "4182  'العالم الإسلامي خُدع بإيران وبحزب الله وأحداث...  "
            ],
            "text/html": [
              "\n",
              "  <div id=\"df-4521ee7f-1a14-4a68-90a3-dfd4410dc3ce\">\n",
              "    <div class=\"colab-df-container\">\n",
              "      <div>\n",
              "<style scoped>\n",
              "    .dataframe tbody tr th:only-of-type {\n",
              "        vertical-align: middle;\n",
              "    }\n",
              "\n",
              "    .dataframe tbody tr th {\n",
              "        vertical-align: top;\n",
              "    }\n",
              "\n",
              "    .dataframe thead th {\n",
              "        text-align: right;\n",
              "    }\n",
              "</style>\n",
              "<table border=\"1\" class=\"dataframe\">\n",
              "  <thead>\n",
              "    <tr style=\"text-align: right;\">\n",
              "      <th></th>\n",
              "      <th>text</th>\n",
              "      <th>class</th>\n",
              "      <th>word_count</th>\n",
              "      <th>char_count</th>\n",
              "      <th>avg_char_per_word</th>\n",
              "      <th>stopwords</th>\n",
              "      <th>noStop_article</th>\n",
              "    </tr>\n",
              "  </thead>\n",
              "  <tbody>\n",
              "    <tr>\n",
              "      <th>3914</th>\n",
              "      <td>['من الخطاب الملكي في 9 مارس، إلى الانتخابات ا...</td>\n",
              "      <td>Politics</td>\n",
              "      <td>4890</td>\n",
              "      <td>29109</td>\n",
              "      <td>5.360779</td>\n",
              "      <td>939</td>\n",
              "      <td>'من الخطاب الملكي مارس، الانتخابات التشريعية ي...</td>\n",
              "    </tr>\n",
              "    <tr>\n",
              "      <th>4337</th>\n",
              "      <td>['الحمد لله نحمده، ونستعينه، ونستغفره، ونعوذ ب...</td>\n",
              "      <td>Religion</td>\n",
              "      <td>4327</td>\n",
              "      <td>23823</td>\n",
              "      <td>4.505893</td>\n",
              "      <td>998</td>\n",
              "      <td>'الحمد لله نحمده، ونستعينه، ونستغفره، ونعوذ با...</td>\n",
              "    </tr>\n",
              "    <tr>\n",
              "      <th>241</th>\n",
              "      <td>[\"شهد المشهد الثقافي والفني المغربي خلال العام...</td>\n",
              "      <td>Culture</td>\n",
              "      <td>4177</td>\n",
              "      <td>26898</td>\n",
              "      <td>5.439789</td>\n",
              "      <td>805</td>\n",
              "      <td>`` شهد المشهد الثقافي والفني المغربي خلال العا...</td>\n",
              "    </tr>\n",
              "    <tr>\n",
              "      <th>4184</th>\n",
              "      <td>['إن الحمد لله نحمده ونستعينه ونستغفره ، ونعوذ...</td>\n",
              "      <td>Religion</td>\n",
              "      <td>3667</td>\n",
              "      <td>18242</td>\n",
              "      <td>3.974911</td>\n",
              "      <td>772</td>\n",
              "      <td>'إن الحمد لله نحمده ونستعينه ونستغفره ونعوذ با...</td>\n",
              "    </tr>\n",
              "    <tr>\n",
              "      <th>4182</th>\n",
              "      <td>['العالم الإسلامي خُدع بإيران وبحزب الله وأحدا...</td>\n",
              "      <td>Religion</td>\n",
              "      <td>3316</td>\n",
              "      <td>18249</td>\n",
              "      <td>4.503619</td>\n",
              "      <td>800</td>\n",
              "      <td>'العالم الإسلامي خُدع بإيران وبحزب الله وأحداث...</td>\n",
              "    </tr>\n",
              "  </tbody>\n",
              "</table>\n",
              "</div>\n",
              "      <button class=\"colab-df-convert\" onclick=\"convertToInteractive('df-4521ee7f-1a14-4a68-90a3-dfd4410dc3ce')\"\n",
              "              title=\"Convert this dataframe to an interactive table.\"\n",
              "              style=\"display:none;\">\n",
              "        \n",
              "  <svg xmlns=\"http://www.w3.org/2000/svg\" height=\"24px\"viewBox=\"0 0 24 24\"\n",
              "       width=\"24px\">\n",
              "    <path d=\"M0 0h24v24H0V0z\" fill=\"none\"/>\n",
              "    <path d=\"M18.56 5.44l.94 2.06.94-2.06 2.06-.94-2.06-.94-.94-2.06-.94 2.06-2.06.94zm-11 1L8.5 8.5l.94-2.06 2.06-.94-2.06-.94L8.5 2.5l-.94 2.06-2.06.94zm10 10l.94 2.06.94-2.06 2.06-.94-2.06-.94-.94-2.06-.94 2.06-2.06.94z\"/><path d=\"M17.41 7.96l-1.37-1.37c-.4-.4-.92-.59-1.43-.59-.52 0-1.04.2-1.43.59L10.3 9.45l-7.72 7.72c-.78.78-.78 2.05 0 2.83L4 21.41c.39.39.9.59 1.41.59.51 0 1.02-.2 1.41-.59l7.78-7.78 2.81-2.81c.8-.78.8-2.07 0-2.86zM5.41 20L4 18.59l7.72-7.72 1.47 1.35L5.41 20z\"/>\n",
              "  </svg>\n",
              "      </button>\n",
              "      \n",
              "  <style>\n",
              "    .colab-df-container {\n",
              "      display:flex;\n",
              "      flex-wrap:wrap;\n",
              "      gap: 12px;\n",
              "    }\n",
              "\n",
              "    .colab-df-convert {\n",
              "      background-color: #E8F0FE;\n",
              "      border: none;\n",
              "      border-radius: 50%;\n",
              "      cursor: pointer;\n",
              "      display: none;\n",
              "      fill: #1967D2;\n",
              "      height: 32px;\n",
              "      padding: 0 0 0 0;\n",
              "      width: 32px;\n",
              "    }\n",
              "\n",
              "    .colab-df-convert:hover {\n",
              "      background-color: #E2EBFA;\n",
              "      box-shadow: 0px 1px 2px rgba(60, 64, 67, 0.3), 0px 1px 3px 1px rgba(60, 64, 67, 0.15);\n",
              "      fill: #174EA6;\n",
              "    }\n",
              "\n",
              "    [theme=dark] .colab-df-convert {\n",
              "      background-color: #3B4455;\n",
              "      fill: #D2E3FC;\n",
              "    }\n",
              "\n",
              "    [theme=dark] .colab-df-convert:hover {\n",
              "      background-color: #434B5C;\n",
              "      box-shadow: 0px 1px 3px 1px rgba(0, 0, 0, 0.15);\n",
              "      filter: drop-shadow(0px 1px 2px rgba(0, 0, 0, 0.3));\n",
              "      fill: #FFFFFF;\n",
              "    }\n",
              "  </style>\n",
              "\n",
              "      <script>\n",
              "        const buttonEl =\n",
              "          document.querySelector('#df-4521ee7f-1a14-4a68-90a3-dfd4410dc3ce button.colab-df-convert');\n",
              "        buttonEl.style.display =\n",
              "          google.colab.kernel.accessAllowed ? 'block' : 'none';\n",
              "\n",
              "        async function convertToInteractive(key) {\n",
              "          const element = document.querySelector('#df-4521ee7f-1a14-4a68-90a3-dfd4410dc3ce');\n",
              "          const dataTable =\n",
              "            await google.colab.kernel.invokeFunction('convertToInteractive',\n",
              "                                                     [key], {});\n",
              "          if (!dataTable) return;\n",
              "\n",
              "          const docLinkHtml = 'Like what you see? Visit the ' +\n",
              "            '<a target=\"_blank\" href=https://colab.research.google.com/notebooks/data_table.ipynb>data table notebook</a>'\n",
              "            + ' to learn more about interactive tables.';\n",
              "          element.innerHTML = '';\n",
              "          dataTable['output_type'] = 'display_data';\n",
              "          await google.colab.output.renderOutput(dataTable, element);\n",
              "          const docLink = document.createElement('div');\n",
              "          docLink.innerHTML = docLinkHtml;\n",
              "          element.appendChild(docLink);\n",
              "        }\n",
              "      </script>\n",
              "    </div>\n",
              "  </div>\n",
              "  "
            ]
          },
          "metadata": {},
          "execution_count": 36
        }
      ],
      "source": [
        "# Remove stopwords\n",
        "def removeStop(text):\n",
        "  tmp=word_tokenize(text)\n",
        "  text=\" \".join([w for w in tmp if not w in stop and len(w) >=2])\n",
        "  return text\n",
        "\n",
        "dataset['noStop_article']=dataset['text'].apply(lambda x: removeStop(x))\n",
        "dataset.head()\n",
        "# print(word_tokenize(dataset['text'][0]))\n",
        "# print(tokenize.sent_tokenize(dataset['text'][0]))"
      ]
    },
    {
      "cell_type": "code",
      "source": [
        "# Normalization\n",
        "\n",
        "# import reugular expression\n",
        "import re \n",
        "\n",
        "def normalize(text):\n",
        "  # remove three or more repetitions of a character\n",
        "  pattern=re.compile(r\"(.)\\1{2,}\",re.DOTALL)\n",
        "  text=pattern.sub(r\"\\1\\1\",text)\n",
        "  # normalize alif\n",
        "  text = text.replace(u\"\\u0625\", u\"\\u0627\")  # HAMZA below, with LETTER ALEF\n",
        "  text = text.replace(u\"\\u0622\", u\"\\u0627\")  # ALEF WITH MADDA ABOVE, with LETTER ALEF\n",
        "  text = text.replace(u\"\\u0623\", u\"\\u0627\")  # ALEF WITH HAMZA ABOVE, with LETTER ALEF\n",
        "  # normalize taa\n",
        "  text = text.replace(u\"\\u0629\", u\"\\u0647\") # taa' marbuuTa, with haa'\n",
        "  # normalize yaa\n",
        "  text = text.replace(u\"\\u064A\", u\"\\u0649\")  # yaa' with 'alif maqSuura\n",
        "  # remove diacritics \n",
        "  text = text.replace(u\"\\u064B\", \"\")  # fatHatayn\n",
        "  text = text.replace(u\"\\u064C\", \"\")  # Dammatayn\n",
        "  text = text.replace(u\"\\u064D\", \"\")  # kasratayn\n",
        "  text = text.replace(u\"\\u064E\", \"\")  # fatHa\n",
        "  text = text.replace(u\"\\u064F\", \"\")  # Damma\n",
        "  text = text.replace(u\"\\u0650\", \"\")  # kasra\n",
        "  text = text.replace(u\"\\u0651\", \"\")  # shaddah\n",
        "  text = text.replace(u\"\\u0652\", \"\")  # sukuun\n",
        "  text = text.replace(u\"\\u0670\", \"`\")  # dagger 'alif\n",
        "  return text\n",
        "\n",
        "# aggregate all preprocessing steps into one column for the next step\n",
        "dataset['normalized_article']=dataset['noStop_article'].apply(lambda x:normalize(x))\n",
        "dataset.head()"
      ],
      "metadata": {
        "colab": {
          "base_uri": "https://localhost:8080/",
          "height": 528
        },
        "id": "Qk-ocbtUFIXJ",
        "outputId": "2b82eb4a-7b62-4e81-9d37-adcb77bbdb00"
      },
      "execution_count": null,
      "outputs": [
        {
          "output_type": "execute_result",
          "data": {
            "text/plain": [
              "                                                   text     class  word_count  \\\n",
              "3914  ['من الخطاب الملكي في 9 مارس، إلى الانتخابات ا...  Politics        4890   \n",
              "4337  ['الحمد لله نحمده، ونستعينه، ونستغفره، ونعوذ ب...  Religion        4327   \n",
              "241   [\"شهد المشهد الثقافي والفني المغربي خلال العام...   Culture        4177   \n",
              "4184  ['إن الحمد لله نحمده ونستعينه ونستغفره ، ونعوذ...  Religion        3667   \n",
              "4182  ['العالم الإسلامي خُدع بإيران وبحزب الله وأحدا...  Religion        3316   \n",
              "\n",
              "      char_count  avg_char_per_word  stopwords  \\\n",
              "3914       29109           5.360779        939   \n",
              "4337       23823           4.505893        998   \n",
              "241        26898           5.439789        805   \n",
              "4184       18242           3.974911        772   \n",
              "4182       18249           4.503619        800   \n",
              "\n",
              "                                         noStop_article  \\\n",
              "3914  'من الخطاب الملكي مارس، الانتخابات التشريعية ي...   \n",
              "4337  'الحمد لله نحمده، ونستعينه، ونستغفره، ونعوذ با...   \n",
              "241   `` شهد المشهد الثقافي والفني المغربي خلال العا...   \n",
              "4184  'إن الحمد لله نحمده ونستعينه ونستغفره ونعوذ با...   \n",
              "4182  'العالم الإسلامي خُدع بإيران وبحزب الله وأحداث...   \n",
              "\n",
              "                                     normalized_article  \n",
              "3914  'من الخطاب الملكى مارس، الانتخابات التشرىعىه ى...  \n",
              "4337  'الحمد لله نحمده، ونستعىنه، ونستغفره، ونعوذ با...  \n",
              "241   `` شهد المشهد الثقافى والفنى المغربى خلال العا...  \n",
              "4184  'ان الحمد لله نحمده ونستعىنه ونستغفره ونعوذ با...  \n",
              "4182  'العالم الاسلامى خدع باىران وبحزب الله واحداث ...  "
            ],
            "text/html": [
              "\n",
              "  <div id=\"df-a165a601-d4f4-46a8-9318-b939c1dae57d\">\n",
              "    <div class=\"colab-df-container\">\n",
              "      <div>\n",
              "<style scoped>\n",
              "    .dataframe tbody tr th:only-of-type {\n",
              "        vertical-align: middle;\n",
              "    }\n",
              "\n",
              "    .dataframe tbody tr th {\n",
              "        vertical-align: top;\n",
              "    }\n",
              "\n",
              "    .dataframe thead th {\n",
              "        text-align: right;\n",
              "    }\n",
              "</style>\n",
              "<table border=\"1\" class=\"dataframe\">\n",
              "  <thead>\n",
              "    <tr style=\"text-align: right;\">\n",
              "      <th></th>\n",
              "      <th>text</th>\n",
              "      <th>class</th>\n",
              "      <th>word_count</th>\n",
              "      <th>char_count</th>\n",
              "      <th>avg_char_per_word</th>\n",
              "      <th>stopwords</th>\n",
              "      <th>noStop_article</th>\n",
              "      <th>normalized_article</th>\n",
              "    </tr>\n",
              "  </thead>\n",
              "  <tbody>\n",
              "    <tr>\n",
              "      <th>3914</th>\n",
              "      <td>['من الخطاب الملكي في 9 مارس، إلى الانتخابات ا...</td>\n",
              "      <td>Politics</td>\n",
              "      <td>4890</td>\n",
              "      <td>29109</td>\n",
              "      <td>5.360779</td>\n",
              "      <td>939</td>\n",
              "      <td>'من الخطاب الملكي مارس، الانتخابات التشريعية ي...</td>\n",
              "      <td>'من الخطاب الملكى مارس، الانتخابات التشرىعىه ى...</td>\n",
              "    </tr>\n",
              "    <tr>\n",
              "      <th>4337</th>\n",
              "      <td>['الحمد لله نحمده، ونستعينه، ونستغفره، ونعوذ ب...</td>\n",
              "      <td>Religion</td>\n",
              "      <td>4327</td>\n",
              "      <td>23823</td>\n",
              "      <td>4.505893</td>\n",
              "      <td>998</td>\n",
              "      <td>'الحمد لله نحمده، ونستعينه، ونستغفره، ونعوذ با...</td>\n",
              "      <td>'الحمد لله نحمده، ونستعىنه، ونستغفره، ونعوذ با...</td>\n",
              "    </tr>\n",
              "    <tr>\n",
              "      <th>241</th>\n",
              "      <td>[\"شهد المشهد الثقافي والفني المغربي خلال العام...</td>\n",
              "      <td>Culture</td>\n",
              "      <td>4177</td>\n",
              "      <td>26898</td>\n",
              "      <td>5.439789</td>\n",
              "      <td>805</td>\n",
              "      <td>`` شهد المشهد الثقافي والفني المغربي خلال العا...</td>\n",
              "      <td>`` شهد المشهد الثقافى والفنى المغربى خلال العا...</td>\n",
              "    </tr>\n",
              "    <tr>\n",
              "      <th>4184</th>\n",
              "      <td>['إن الحمد لله نحمده ونستعينه ونستغفره ، ونعوذ...</td>\n",
              "      <td>Religion</td>\n",
              "      <td>3667</td>\n",
              "      <td>18242</td>\n",
              "      <td>3.974911</td>\n",
              "      <td>772</td>\n",
              "      <td>'إن الحمد لله نحمده ونستعينه ونستغفره ونعوذ با...</td>\n",
              "      <td>'ان الحمد لله نحمده ونستعىنه ونستغفره ونعوذ با...</td>\n",
              "    </tr>\n",
              "    <tr>\n",
              "      <th>4182</th>\n",
              "      <td>['العالم الإسلامي خُدع بإيران وبحزب الله وأحدا...</td>\n",
              "      <td>Religion</td>\n",
              "      <td>3316</td>\n",
              "      <td>18249</td>\n",
              "      <td>4.503619</td>\n",
              "      <td>800</td>\n",
              "      <td>'العالم الإسلامي خُدع بإيران وبحزب الله وأحداث...</td>\n",
              "      <td>'العالم الاسلامى خدع باىران وبحزب الله واحداث ...</td>\n",
              "    </tr>\n",
              "  </tbody>\n",
              "</table>\n",
              "</div>\n",
              "      <button class=\"colab-df-convert\" onclick=\"convertToInteractive('df-a165a601-d4f4-46a8-9318-b939c1dae57d')\"\n",
              "              title=\"Convert this dataframe to an interactive table.\"\n",
              "              style=\"display:none;\">\n",
              "        \n",
              "  <svg xmlns=\"http://www.w3.org/2000/svg\" height=\"24px\"viewBox=\"0 0 24 24\"\n",
              "       width=\"24px\">\n",
              "    <path d=\"M0 0h24v24H0V0z\" fill=\"none\"/>\n",
              "    <path d=\"M18.56 5.44l.94 2.06.94-2.06 2.06-.94-2.06-.94-.94-2.06-.94 2.06-2.06.94zm-11 1L8.5 8.5l.94-2.06 2.06-.94-2.06-.94L8.5 2.5l-.94 2.06-2.06.94zm10 10l.94 2.06.94-2.06 2.06-.94-2.06-.94-.94-2.06-.94 2.06-2.06.94z\"/><path d=\"M17.41 7.96l-1.37-1.37c-.4-.4-.92-.59-1.43-.59-.52 0-1.04.2-1.43.59L10.3 9.45l-7.72 7.72c-.78.78-.78 2.05 0 2.83L4 21.41c.39.39.9.59 1.41.59.51 0 1.02-.2 1.41-.59l7.78-7.78 2.81-2.81c.8-.78.8-2.07 0-2.86zM5.41 20L4 18.59l7.72-7.72 1.47 1.35L5.41 20z\"/>\n",
              "  </svg>\n",
              "      </button>\n",
              "      \n",
              "  <style>\n",
              "    .colab-df-container {\n",
              "      display:flex;\n",
              "      flex-wrap:wrap;\n",
              "      gap: 12px;\n",
              "    }\n",
              "\n",
              "    .colab-df-convert {\n",
              "      background-color: #E8F0FE;\n",
              "      border: none;\n",
              "      border-radius: 50%;\n",
              "      cursor: pointer;\n",
              "      display: none;\n",
              "      fill: #1967D2;\n",
              "      height: 32px;\n",
              "      padding: 0 0 0 0;\n",
              "      width: 32px;\n",
              "    }\n",
              "\n",
              "    .colab-df-convert:hover {\n",
              "      background-color: #E2EBFA;\n",
              "      box-shadow: 0px 1px 2px rgba(60, 64, 67, 0.3), 0px 1px 3px 1px rgba(60, 64, 67, 0.15);\n",
              "      fill: #174EA6;\n",
              "    }\n",
              "\n",
              "    [theme=dark] .colab-df-convert {\n",
              "      background-color: #3B4455;\n",
              "      fill: #D2E3FC;\n",
              "    }\n",
              "\n",
              "    [theme=dark] .colab-df-convert:hover {\n",
              "      background-color: #434B5C;\n",
              "      box-shadow: 0px 1px 3px 1px rgba(0, 0, 0, 0.15);\n",
              "      filter: drop-shadow(0px 1px 2px rgba(0, 0, 0, 0.3));\n",
              "      fill: #FFFFFF;\n",
              "    }\n",
              "  </style>\n",
              "\n",
              "      <script>\n",
              "        const buttonEl =\n",
              "          document.querySelector('#df-a165a601-d4f4-46a8-9318-b939c1dae57d button.colab-df-convert');\n",
              "        buttonEl.style.display =\n",
              "          google.colab.kernel.accessAllowed ? 'block' : 'none';\n",
              "\n",
              "        async function convertToInteractive(key) {\n",
              "          const element = document.querySelector('#df-a165a601-d4f4-46a8-9318-b939c1dae57d');\n",
              "          const dataTable =\n",
              "            await google.colab.kernel.invokeFunction('convertToInteractive',\n",
              "                                                     [key], {});\n",
              "          if (!dataTable) return;\n",
              "\n",
              "          const docLinkHtml = 'Like what you see? Visit the ' +\n",
              "            '<a target=\"_blank\" href=https://colab.research.google.com/notebooks/data_table.ipynb>data table notebook</a>'\n",
              "            + ' to learn more about interactive tables.';\n",
              "          element.innerHTML = '';\n",
              "          dataTable['output_type'] = 'display_data';\n",
              "          await google.colab.output.renderOutput(dataTable, element);\n",
              "          const docLink = document.createElement('div');\n",
              "          docLink.innerHTML = docLinkHtml;\n",
              "          element.appendChild(docLink);\n",
              "        }\n",
              "      </script>\n",
              "    </div>\n",
              "  </div>\n",
              "  "
            ]
          },
          "metadata": {},
          "execution_count": 37
        }
      ]
    },
    {
      "cell_type": "code",
      "source": [
        "# Remove Punctuations\n",
        "import string\n",
        "\n",
        "arabicPunctuations = [\".\",\"`\",\"؛\",\"<\",\">\",\"(\",\")\",\"*\",\"&\",\"^\",\"%\",\"]\",\"[\",\",\",\"ـ\",\"،\",\"/\",\":\",\"؟\",\".\",\"'\",\"{\",\"}\",\"~\",\"|\",\"!\",\"”\",\"…\",\"“\",\"–\"] # defining customized punctuation marks\n",
        "englishPunctuations = [word.strip() for word in string.punctuation] # importing English punctuation marks\n",
        "punctuationsList = arabicPunctuations + englishPunctuations # creating a list of all punctuation marks\n",
        "\n",
        "def removePunct(text):\n",
        "  cleanArticle=''\n",
        "  for i in text:\n",
        "    if i not in punctuationsList:\n",
        "      cleanArticle=cleanArticle+i\n",
        "  return cleanArticle\n",
        "\n",
        "dataset['clean_article'] = dataset['normalized_article'].apply(lambda x: removePunct(x)) # takes 18s to run\n",
        "dataset.head()"
      ],
      "metadata": {
        "colab": {
          "base_uri": "https://localhost:8080/",
          "height": 756
        },
        "id": "kSvnRVuPM6wC",
        "outputId": "30415f3d-2d8f-4b46-b863-dbcca476a71f"
      },
      "execution_count": null,
      "outputs": [
        {
          "output_type": "execute_result",
          "data": {
            "text/plain": [
              "                                                   text     class  word_count  \\\n",
              "3914  ['من الخطاب الملكي في 9 مارس، إلى الانتخابات ا...  Politics        4890   \n",
              "4337  ['الحمد لله نحمده، ونستعينه، ونستغفره، ونعوذ ب...  Religion        4327   \n",
              "241   [\"شهد المشهد الثقافي والفني المغربي خلال العام...   Culture        4177   \n",
              "4184  ['إن الحمد لله نحمده ونستعينه ونستغفره ، ونعوذ...  Religion        3667   \n",
              "4182  ['العالم الإسلامي خُدع بإيران وبحزب الله وأحدا...  Religion        3316   \n",
              "\n",
              "      char_count  avg_char_per_word  stopwords  \\\n",
              "3914       29109           5.360779        939   \n",
              "4337       23823           4.505893        998   \n",
              "241        26898           5.439789        805   \n",
              "4184       18242           3.974911        772   \n",
              "4182       18249           4.503619        800   \n",
              "\n",
              "                                         noStop_article  \\\n",
              "3914  'من الخطاب الملكي مارس، الانتخابات التشريعية ي...   \n",
              "4337  'الحمد لله نحمده، ونستعينه، ونستغفره، ونعوذ با...   \n",
              "241   `` شهد المشهد الثقافي والفني المغربي خلال العا...   \n",
              "4184  'إن الحمد لله نحمده ونستعينه ونستغفره ونعوذ با...   \n",
              "4182  'العالم الإسلامي خُدع بإيران وبحزب الله وأحداث...   \n",
              "\n",
              "                                     normalized_article  \\\n",
              "3914  'من الخطاب الملكى مارس، الانتخابات التشرىعىه ى...   \n",
              "4337  'الحمد لله نحمده، ونستعىنه، ونستغفره، ونعوذ با...   \n",
              "241   `` شهد المشهد الثقافى والفنى المغربى خلال العا...   \n",
              "4184  'ان الحمد لله نحمده ونستعىنه ونستغفره ونعوذ با...   \n",
              "4182  'العالم الاسلامى خدع باىران وبحزب الله واحداث ...   \n",
              "\n",
              "                                          clean_article  \n",
              "3914  من الخطاب الملكى مارس الانتخابات التشرىعىه ىوم...  \n",
              "4337  الحمد لله نحمده ونستعىنه ونستغفره ونعوذ بالله ...  \n",
              "241    شهد المشهد الثقافى والفنى المغربى خلال العام ...  \n",
              "4184  ان الحمد لله نحمده ونستعىنه ونستغفره ونعوذ بال...  \n",
              "4182  العالم الاسلامى خدع باىران وبحزب الله واحداث ا...  "
            ],
            "text/html": [
              "\n",
              "  <div id=\"df-8c7e644d-8c91-4bbd-8cc6-1956ee6ffc48\">\n",
              "    <div class=\"colab-df-container\">\n",
              "      <div>\n",
              "<style scoped>\n",
              "    .dataframe tbody tr th:only-of-type {\n",
              "        vertical-align: middle;\n",
              "    }\n",
              "\n",
              "    .dataframe tbody tr th {\n",
              "        vertical-align: top;\n",
              "    }\n",
              "\n",
              "    .dataframe thead th {\n",
              "        text-align: right;\n",
              "    }\n",
              "</style>\n",
              "<table border=\"1\" class=\"dataframe\">\n",
              "  <thead>\n",
              "    <tr style=\"text-align: right;\">\n",
              "      <th></th>\n",
              "      <th>text</th>\n",
              "      <th>class</th>\n",
              "      <th>word_count</th>\n",
              "      <th>char_count</th>\n",
              "      <th>avg_char_per_word</th>\n",
              "      <th>stopwords</th>\n",
              "      <th>noStop_article</th>\n",
              "      <th>normalized_article</th>\n",
              "      <th>clean_article</th>\n",
              "    </tr>\n",
              "  </thead>\n",
              "  <tbody>\n",
              "    <tr>\n",
              "      <th>3914</th>\n",
              "      <td>['من الخطاب الملكي في 9 مارس، إلى الانتخابات ا...</td>\n",
              "      <td>Politics</td>\n",
              "      <td>4890</td>\n",
              "      <td>29109</td>\n",
              "      <td>5.360779</td>\n",
              "      <td>939</td>\n",
              "      <td>'من الخطاب الملكي مارس، الانتخابات التشريعية ي...</td>\n",
              "      <td>'من الخطاب الملكى مارس، الانتخابات التشرىعىه ى...</td>\n",
              "      <td>من الخطاب الملكى مارس الانتخابات التشرىعىه ىوم...</td>\n",
              "    </tr>\n",
              "    <tr>\n",
              "      <th>4337</th>\n",
              "      <td>['الحمد لله نحمده، ونستعينه، ونستغفره، ونعوذ ب...</td>\n",
              "      <td>Religion</td>\n",
              "      <td>4327</td>\n",
              "      <td>23823</td>\n",
              "      <td>4.505893</td>\n",
              "      <td>998</td>\n",
              "      <td>'الحمد لله نحمده، ونستعينه، ونستغفره، ونعوذ با...</td>\n",
              "      <td>'الحمد لله نحمده، ونستعىنه، ونستغفره، ونعوذ با...</td>\n",
              "      <td>الحمد لله نحمده ونستعىنه ونستغفره ونعوذ بالله ...</td>\n",
              "    </tr>\n",
              "    <tr>\n",
              "      <th>241</th>\n",
              "      <td>[\"شهد المشهد الثقافي والفني المغربي خلال العام...</td>\n",
              "      <td>Culture</td>\n",
              "      <td>4177</td>\n",
              "      <td>26898</td>\n",
              "      <td>5.439789</td>\n",
              "      <td>805</td>\n",
              "      <td>`` شهد المشهد الثقافي والفني المغربي خلال العا...</td>\n",
              "      <td>`` شهد المشهد الثقافى والفنى المغربى خلال العا...</td>\n",
              "      <td>شهد المشهد الثقافى والفنى المغربى خلال العام ...</td>\n",
              "    </tr>\n",
              "    <tr>\n",
              "      <th>4184</th>\n",
              "      <td>['إن الحمد لله نحمده ونستعينه ونستغفره ، ونعوذ...</td>\n",
              "      <td>Religion</td>\n",
              "      <td>3667</td>\n",
              "      <td>18242</td>\n",
              "      <td>3.974911</td>\n",
              "      <td>772</td>\n",
              "      <td>'إن الحمد لله نحمده ونستعينه ونستغفره ونعوذ با...</td>\n",
              "      <td>'ان الحمد لله نحمده ونستعىنه ونستغفره ونعوذ با...</td>\n",
              "      <td>ان الحمد لله نحمده ونستعىنه ونستغفره ونعوذ بال...</td>\n",
              "    </tr>\n",
              "    <tr>\n",
              "      <th>4182</th>\n",
              "      <td>['العالم الإسلامي خُدع بإيران وبحزب الله وأحدا...</td>\n",
              "      <td>Religion</td>\n",
              "      <td>3316</td>\n",
              "      <td>18249</td>\n",
              "      <td>4.503619</td>\n",
              "      <td>800</td>\n",
              "      <td>'العالم الإسلامي خُدع بإيران وبحزب الله وأحداث...</td>\n",
              "      <td>'العالم الاسلامى خدع باىران وبحزب الله واحداث ...</td>\n",
              "      <td>العالم الاسلامى خدع باىران وبحزب الله واحداث ا...</td>\n",
              "    </tr>\n",
              "  </tbody>\n",
              "</table>\n",
              "</div>\n",
              "      <button class=\"colab-df-convert\" onclick=\"convertToInteractive('df-8c7e644d-8c91-4bbd-8cc6-1956ee6ffc48')\"\n",
              "              title=\"Convert this dataframe to an interactive table.\"\n",
              "              style=\"display:none;\">\n",
              "        \n",
              "  <svg xmlns=\"http://www.w3.org/2000/svg\" height=\"24px\"viewBox=\"0 0 24 24\"\n",
              "       width=\"24px\">\n",
              "    <path d=\"M0 0h24v24H0V0z\" fill=\"none\"/>\n",
              "    <path d=\"M18.56 5.44l.94 2.06.94-2.06 2.06-.94-2.06-.94-.94-2.06-.94 2.06-2.06.94zm-11 1L8.5 8.5l.94-2.06 2.06-.94-2.06-.94L8.5 2.5l-.94 2.06-2.06.94zm10 10l.94 2.06.94-2.06 2.06-.94-2.06-.94-.94-2.06-.94 2.06-2.06.94z\"/><path d=\"M17.41 7.96l-1.37-1.37c-.4-.4-.92-.59-1.43-.59-.52 0-1.04.2-1.43.59L10.3 9.45l-7.72 7.72c-.78.78-.78 2.05 0 2.83L4 21.41c.39.39.9.59 1.41.59.51 0 1.02-.2 1.41-.59l7.78-7.78 2.81-2.81c.8-.78.8-2.07 0-2.86zM5.41 20L4 18.59l7.72-7.72 1.47 1.35L5.41 20z\"/>\n",
              "  </svg>\n",
              "      </button>\n",
              "      \n",
              "  <style>\n",
              "    .colab-df-container {\n",
              "      display:flex;\n",
              "      flex-wrap:wrap;\n",
              "      gap: 12px;\n",
              "    }\n",
              "\n",
              "    .colab-df-convert {\n",
              "      background-color: #E8F0FE;\n",
              "      border: none;\n",
              "      border-radius: 50%;\n",
              "      cursor: pointer;\n",
              "      display: none;\n",
              "      fill: #1967D2;\n",
              "      height: 32px;\n",
              "      padding: 0 0 0 0;\n",
              "      width: 32px;\n",
              "    }\n",
              "\n",
              "    .colab-df-convert:hover {\n",
              "      background-color: #E2EBFA;\n",
              "      box-shadow: 0px 1px 2px rgba(60, 64, 67, 0.3), 0px 1px 3px 1px rgba(60, 64, 67, 0.15);\n",
              "      fill: #174EA6;\n",
              "    }\n",
              "\n",
              "    [theme=dark] .colab-df-convert {\n",
              "      background-color: #3B4455;\n",
              "      fill: #D2E3FC;\n",
              "    }\n",
              "\n",
              "    [theme=dark] .colab-df-convert:hover {\n",
              "      background-color: #434B5C;\n",
              "      box-shadow: 0px 1px 3px 1px rgba(0, 0, 0, 0.15);\n",
              "      filter: drop-shadow(0px 1px 2px rgba(0, 0, 0, 0.3));\n",
              "      fill: #FFFFFF;\n",
              "    }\n",
              "  </style>\n",
              "\n",
              "      <script>\n",
              "        const buttonEl =\n",
              "          document.querySelector('#df-8c7e644d-8c91-4bbd-8cc6-1956ee6ffc48 button.colab-df-convert');\n",
              "        buttonEl.style.display =\n",
              "          google.colab.kernel.accessAllowed ? 'block' : 'none';\n",
              "\n",
              "        async function convertToInteractive(key) {\n",
              "          const element = document.querySelector('#df-8c7e644d-8c91-4bbd-8cc6-1956ee6ffc48');\n",
              "          const dataTable =\n",
              "            await google.colab.kernel.invokeFunction('convertToInteractive',\n",
              "                                                     [key], {});\n",
              "          if (!dataTable) return;\n",
              "\n",
              "          const docLinkHtml = 'Like what you see? Visit the ' +\n",
              "            '<a target=\"_blank\" href=https://colab.research.google.com/notebooks/data_table.ipynb>data table notebook</a>'\n",
              "            + ' to learn more about interactive tables.';\n",
              "          element.innerHTML = '';\n",
              "          dataTable['output_type'] = 'display_data';\n",
              "          await google.colab.output.renderOutput(dataTable, element);\n",
              "          const docLink = document.createElement('div');\n",
              "          docLink.innerHTML = docLinkHtml;\n",
              "          element.appendChild(docLink);\n",
              "        }\n",
              "      </script>\n",
              "    </div>\n",
              "  </div>\n",
              "  "
            ]
          },
          "metadata": {},
          "execution_count": 38
        }
      ]
    },
    {
      "cell_type": "code",
      "source": [
        "# Noise Removal\n",
        "def clean(text):\n",
        "  # Remove extra whitespace\n",
        "  text=re.sub('\\s+',' ',text)\n",
        "  # Remove numbers\n",
        "  text=re.sub('\\d+',' ',text)\n",
        "  return text\n",
        "\n",
        "dataset['abstract_article']=dataset['clean_article'].apply(lambda x: clean(x))\n",
        "dataset.head()"
      ],
      "metadata": {
        "colab": {
          "base_uri": "https://localhost:8080/",
          "height": 756
        },
        "id": "LuaDpGwuXENs",
        "outputId": "68e7b90c-c06c-4f27-8dcf-ffcfc0b465ad"
      },
      "execution_count": null,
      "outputs": [
        {
          "output_type": "execute_result",
          "data": {
            "text/plain": [
              "                                                   text     class  word_count  \\\n",
              "3914  ['من الخطاب الملكي في 9 مارس، إلى الانتخابات ا...  Politics        4890   \n",
              "4337  ['الحمد لله نحمده، ونستعينه، ونستغفره، ونعوذ ب...  Religion        4327   \n",
              "241   [\"شهد المشهد الثقافي والفني المغربي خلال العام...   Culture        4177   \n",
              "4184  ['إن الحمد لله نحمده ونستعينه ونستغفره ، ونعوذ...  Religion        3667   \n",
              "4182  ['العالم الإسلامي خُدع بإيران وبحزب الله وأحدا...  Religion        3316   \n",
              "\n",
              "      char_count  avg_char_per_word  stopwords  \\\n",
              "3914       29109           5.360779        939   \n",
              "4337       23823           4.505893        998   \n",
              "241        26898           5.439789        805   \n",
              "4184       18242           3.974911        772   \n",
              "4182       18249           4.503619        800   \n",
              "\n",
              "                                         noStop_article  \\\n",
              "3914  'من الخطاب الملكي مارس، الانتخابات التشريعية ي...   \n",
              "4337  'الحمد لله نحمده، ونستعينه، ونستغفره، ونعوذ با...   \n",
              "241   `` شهد المشهد الثقافي والفني المغربي خلال العا...   \n",
              "4184  'إن الحمد لله نحمده ونستعينه ونستغفره ونعوذ با...   \n",
              "4182  'العالم الإسلامي خُدع بإيران وبحزب الله وأحداث...   \n",
              "\n",
              "                                     normalized_article  \\\n",
              "3914  'من الخطاب الملكى مارس، الانتخابات التشرىعىه ى...   \n",
              "4337  'الحمد لله نحمده، ونستعىنه، ونستغفره، ونعوذ با...   \n",
              "241   `` شهد المشهد الثقافى والفنى المغربى خلال العا...   \n",
              "4184  'ان الحمد لله نحمده ونستعىنه ونستغفره ونعوذ با...   \n",
              "4182  'العالم الاسلامى خدع باىران وبحزب الله واحداث ...   \n",
              "\n",
              "                                          clean_article  \\\n",
              "3914  من الخطاب الملكى مارس الانتخابات التشرىعىه ىوم...   \n",
              "4337  الحمد لله نحمده ونستعىنه ونستغفره ونعوذ بالله ...   \n",
              "241    شهد المشهد الثقافى والفنى المغربى خلال العام ...   \n",
              "4184  ان الحمد لله نحمده ونستعىنه ونستغفره ونعوذ بال...   \n",
              "4182  العالم الاسلامى خدع باىران وبحزب الله واحداث ا...   \n",
              "\n",
              "                                       abstract_article  \n",
              "3914  من الخطاب الملكى مارس الانتخابات التشرىعىه ىوم...  \n",
              "4337  الحمد لله نحمده ونستعىنه ونستغفره ونعوذ بالله ...  \n",
              "241    شهد المشهد الثقافى والفنى المغربى خلال العام ...  \n",
              "4184  ان الحمد لله نحمده ونستعىنه ونستغفره ونعوذ بال...  \n",
              "4182  العالم الاسلامى خدع باىران وبحزب الله واحداث ا...  "
            ],
            "text/html": [
              "\n",
              "  <div id=\"df-70ad8b64-e692-4c88-9315-f08e9842aead\">\n",
              "    <div class=\"colab-df-container\">\n",
              "      <div>\n",
              "<style scoped>\n",
              "    .dataframe tbody tr th:only-of-type {\n",
              "        vertical-align: middle;\n",
              "    }\n",
              "\n",
              "    .dataframe tbody tr th {\n",
              "        vertical-align: top;\n",
              "    }\n",
              "\n",
              "    .dataframe thead th {\n",
              "        text-align: right;\n",
              "    }\n",
              "</style>\n",
              "<table border=\"1\" class=\"dataframe\">\n",
              "  <thead>\n",
              "    <tr style=\"text-align: right;\">\n",
              "      <th></th>\n",
              "      <th>text</th>\n",
              "      <th>class</th>\n",
              "      <th>word_count</th>\n",
              "      <th>char_count</th>\n",
              "      <th>avg_char_per_word</th>\n",
              "      <th>stopwords</th>\n",
              "      <th>noStop_article</th>\n",
              "      <th>normalized_article</th>\n",
              "      <th>clean_article</th>\n",
              "      <th>abstract_article</th>\n",
              "    </tr>\n",
              "  </thead>\n",
              "  <tbody>\n",
              "    <tr>\n",
              "      <th>3914</th>\n",
              "      <td>['من الخطاب الملكي في 9 مارس، إلى الانتخابات ا...</td>\n",
              "      <td>Politics</td>\n",
              "      <td>4890</td>\n",
              "      <td>29109</td>\n",
              "      <td>5.360779</td>\n",
              "      <td>939</td>\n",
              "      <td>'من الخطاب الملكي مارس، الانتخابات التشريعية ي...</td>\n",
              "      <td>'من الخطاب الملكى مارس، الانتخابات التشرىعىه ى...</td>\n",
              "      <td>من الخطاب الملكى مارس الانتخابات التشرىعىه ىوم...</td>\n",
              "      <td>من الخطاب الملكى مارس الانتخابات التشرىعىه ىوم...</td>\n",
              "    </tr>\n",
              "    <tr>\n",
              "      <th>4337</th>\n",
              "      <td>['الحمد لله نحمده، ونستعينه، ونستغفره، ونعوذ ب...</td>\n",
              "      <td>Religion</td>\n",
              "      <td>4327</td>\n",
              "      <td>23823</td>\n",
              "      <td>4.505893</td>\n",
              "      <td>998</td>\n",
              "      <td>'الحمد لله نحمده، ونستعينه، ونستغفره، ونعوذ با...</td>\n",
              "      <td>'الحمد لله نحمده، ونستعىنه، ونستغفره، ونعوذ با...</td>\n",
              "      <td>الحمد لله نحمده ونستعىنه ونستغفره ونعوذ بالله ...</td>\n",
              "      <td>الحمد لله نحمده ونستعىنه ونستغفره ونعوذ بالله ...</td>\n",
              "    </tr>\n",
              "    <tr>\n",
              "      <th>241</th>\n",
              "      <td>[\"شهد المشهد الثقافي والفني المغربي خلال العام...</td>\n",
              "      <td>Culture</td>\n",
              "      <td>4177</td>\n",
              "      <td>26898</td>\n",
              "      <td>5.439789</td>\n",
              "      <td>805</td>\n",
              "      <td>`` شهد المشهد الثقافي والفني المغربي خلال العا...</td>\n",
              "      <td>`` شهد المشهد الثقافى والفنى المغربى خلال العا...</td>\n",
              "      <td>شهد المشهد الثقافى والفنى المغربى خلال العام ...</td>\n",
              "      <td>شهد المشهد الثقافى والفنى المغربى خلال العام ...</td>\n",
              "    </tr>\n",
              "    <tr>\n",
              "      <th>4184</th>\n",
              "      <td>['إن الحمد لله نحمده ونستعينه ونستغفره ، ونعوذ...</td>\n",
              "      <td>Religion</td>\n",
              "      <td>3667</td>\n",
              "      <td>18242</td>\n",
              "      <td>3.974911</td>\n",
              "      <td>772</td>\n",
              "      <td>'إن الحمد لله نحمده ونستعينه ونستغفره ونعوذ با...</td>\n",
              "      <td>'ان الحمد لله نحمده ونستعىنه ونستغفره ونعوذ با...</td>\n",
              "      <td>ان الحمد لله نحمده ونستعىنه ونستغفره ونعوذ بال...</td>\n",
              "      <td>ان الحمد لله نحمده ونستعىنه ونستغفره ونعوذ بال...</td>\n",
              "    </tr>\n",
              "    <tr>\n",
              "      <th>4182</th>\n",
              "      <td>['العالم الإسلامي خُدع بإيران وبحزب الله وأحدا...</td>\n",
              "      <td>Religion</td>\n",
              "      <td>3316</td>\n",
              "      <td>18249</td>\n",
              "      <td>4.503619</td>\n",
              "      <td>800</td>\n",
              "      <td>'العالم الإسلامي خُدع بإيران وبحزب الله وأحداث...</td>\n",
              "      <td>'العالم الاسلامى خدع باىران وبحزب الله واحداث ...</td>\n",
              "      <td>العالم الاسلامى خدع باىران وبحزب الله واحداث ا...</td>\n",
              "      <td>العالم الاسلامى خدع باىران وبحزب الله واحداث ا...</td>\n",
              "    </tr>\n",
              "  </tbody>\n",
              "</table>\n",
              "</div>\n",
              "      <button class=\"colab-df-convert\" onclick=\"convertToInteractive('df-70ad8b64-e692-4c88-9315-f08e9842aead')\"\n",
              "              title=\"Convert this dataframe to an interactive table.\"\n",
              "              style=\"display:none;\">\n",
              "        \n",
              "  <svg xmlns=\"http://www.w3.org/2000/svg\" height=\"24px\"viewBox=\"0 0 24 24\"\n",
              "       width=\"24px\">\n",
              "    <path d=\"M0 0h24v24H0V0z\" fill=\"none\"/>\n",
              "    <path d=\"M18.56 5.44l.94 2.06.94-2.06 2.06-.94-2.06-.94-.94-2.06-.94 2.06-2.06.94zm-11 1L8.5 8.5l.94-2.06 2.06-.94-2.06-.94L8.5 2.5l-.94 2.06-2.06.94zm10 10l.94 2.06.94-2.06 2.06-.94-2.06-.94-.94-2.06-.94 2.06-2.06.94z\"/><path d=\"M17.41 7.96l-1.37-1.37c-.4-.4-.92-.59-1.43-.59-.52 0-1.04.2-1.43.59L10.3 9.45l-7.72 7.72c-.78.78-.78 2.05 0 2.83L4 21.41c.39.39.9.59 1.41.59.51 0 1.02-.2 1.41-.59l7.78-7.78 2.81-2.81c.8-.78.8-2.07 0-2.86zM5.41 20L4 18.59l7.72-7.72 1.47 1.35L5.41 20z\"/>\n",
              "  </svg>\n",
              "      </button>\n",
              "      \n",
              "  <style>\n",
              "    .colab-df-container {\n",
              "      display:flex;\n",
              "      flex-wrap:wrap;\n",
              "      gap: 12px;\n",
              "    }\n",
              "\n",
              "    .colab-df-convert {\n",
              "      background-color: #E8F0FE;\n",
              "      border: none;\n",
              "      border-radius: 50%;\n",
              "      cursor: pointer;\n",
              "      display: none;\n",
              "      fill: #1967D2;\n",
              "      height: 32px;\n",
              "      padding: 0 0 0 0;\n",
              "      width: 32px;\n",
              "    }\n",
              "\n",
              "    .colab-df-convert:hover {\n",
              "      background-color: #E2EBFA;\n",
              "      box-shadow: 0px 1px 2px rgba(60, 64, 67, 0.3), 0px 1px 3px 1px rgba(60, 64, 67, 0.15);\n",
              "      fill: #174EA6;\n",
              "    }\n",
              "\n",
              "    [theme=dark] .colab-df-convert {\n",
              "      background-color: #3B4455;\n",
              "      fill: #D2E3FC;\n",
              "    }\n",
              "\n",
              "    [theme=dark] .colab-df-convert:hover {\n",
              "      background-color: #434B5C;\n",
              "      box-shadow: 0px 1px 3px 1px rgba(0, 0, 0, 0.15);\n",
              "      filter: drop-shadow(0px 1px 2px rgba(0, 0, 0, 0.3));\n",
              "      fill: #FFFFFF;\n",
              "    }\n",
              "  </style>\n",
              "\n",
              "      <script>\n",
              "        const buttonEl =\n",
              "          document.querySelector('#df-70ad8b64-e692-4c88-9315-f08e9842aead button.colab-df-convert');\n",
              "        buttonEl.style.display =\n",
              "          google.colab.kernel.accessAllowed ? 'block' : 'none';\n",
              "\n",
              "        async function convertToInteractive(key) {\n",
              "          const element = document.querySelector('#df-70ad8b64-e692-4c88-9315-f08e9842aead');\n",
              "          const dataTable =\n",
              "            await google.colab.kernel.invokeFunction('convertToInteractive',\n",
              "                                                     [key], {});\n",
              "          if (!dataTable) return;\n",
              "\n",
              "          const docLinkHtml = 'Like what you see? Visit the ' +\n",
              "            '<a target=\"_blank\" href=https://colab.research.google.com/notebooks/data_table.ipynb>data table notebook</a>'\n",
              "            + ' to learn more about interactive tables.';\n",
              "          element.innerHTML = '';\n",
              "          dataTable['output_type'] = 'display_data';\n",
              "          await google.colab.output.renderOutput(dataTable, element);\n",
              "          const docLink = document.createElement('div');\n",
              "          docLink.innerHTML = docLinkHtml;\n",
              "          element.appendChild(docLink);\n",
              "        }\n",
              "      </script>\n",
              "    </div>\n",
              "  </div>\n",
              "  "
            ]
          },
          "metadata": {},
          "execution_count": 40
        }
      ]
    },
    {
      "cell_type": "code",
      "source": [
        "\n",
        "# Lemmatization/stemming (takes very long time)\n",
        "# !pip install farasapy"
      ],
      "metadata": {
        "id": "tNSN2SLEc-Ri"
      },
      "execution_count": null,
      "outputs": []
    },
    {
      "cell_type": "code",
      "source": [
        "# from farasa.stemmer import FarasaStemmer\n",
        "# stemmer = FarasaStemmer()\n",
        "\n",
        "# dataset['stemmed_article']=dataset['abstract_article'].apply(lambda x: stemmer.stem(x))\n",
        "# dataset.head()"
      ],
      "metadata": {
        "id": "Hdt1k4BkdjFx"
      },
      "execution_count": null,
      "outputs": []
    },
    {
      "cell_type": "markdown",
      "source": [
        "# Preparing the Dataset"
      ],
      "metadata": {
        "id": "0CHCCMDTTzu3"
      }
    },
    {
      "cell_type": "code",
      "source": [
        "from pandas.core.common import random_state\n",
        "from sklearn.model_selection import train_test_split\n",
        "from sklearn.utils import shuffle\n",
        "\n",
        "dataset=shuffle(dataset)\n",
        "x=dataset['abstract_article']\n",
        "y=dataset['class']\n",
        "x_train,x_test,y_train,y_test= train_test_split(x,y,test_size=0.3,random_state=42)\n",
        "x_train.shape,x_test.shape"
      ],
      "metadata": {
        "colab": {
          "base_uri": "https://localhost:8080/"
        },
        "id": "-py2kBJjRD3v",
        "outputId": "42050826-a145-4369-f683-c6b5f697e64d"
      },
      "execution_count": null,
      "outputs": [
        {
          "output_type": "execute_result",
          "data": {
            "text/plain": [
              "((4900,), (2100,))"
            ]
          },
          "metadata": {},
          "execution_count": 43
        }
      ]
    },
    {
      "cell_type": "markdown",
      "source": [
        "# Random Forest Classifier\n",
        "\n"
      ],
      "metadata": {
        "id": "7eyO8bpI1mPm"
      }
    },
    {
      "cell_type": "code",
      "source": [
        "#TFIDF Vectorization\n",
        "from sklearn.feature_extraction.text import TfidfVectorizer \n",
        "tfidf_vectorizer=TfidfVectorizer() \n",
        " \n",
        "# just send in all your docs here \n",
        "X=tfidf_vectorizer.fit_transform(dataset.abstract_article)\n",
        "\n",
        "#Splitting vectorized data\n",
        "\n",
        "clfx_train, clfx_test, clfy_train,clfy_test = train_test_split(X,dataset['class'], test_size=0.3,random_state=42)"
      ],
      "metadata": {
        "id": "WDzYbeND1unC"
      },
      "execution_count": null,
      "outputs": []
    },
    {
      "cell_type": "code",
      "source": [
        "#Grid search cross validation to find the most optimal parameters\n",
        "from sklearn.model_selection import GridSearchCV\n",
        "from sklearn.feature_extraction.text import TfidfVectorizer\n",
        "from sklearn.pipeline import make_pipeline\n",
        "from sklearn.linear_model import LogisticRegression\n",
        "from sklearn.metrics import confusion_matrix,accuracy_score, classification_report\n",
        "from sklearn.ensemble import RandomForestClassifier\n",
        "\n",
        "# Fitting the RandomforestClassifier to the training set\n",
        "classifier = RandomForestClassifier()\n",
        "\n",
        "parameters = {\n",
        "    \"n_estimators\":[5,10,50,100,250],\n",
        "    \"max_depth\":[2,4,8,16,32,None]\n",
        "    \n",
        "}\n"
      ],
      "metadata": {
        "id": "3Uimi9eX4xr0"
      },
      "execution_count": null,
      "outputs": []
    },
    {
      "cell_type": "code",
      "source": [
        "from sklearn.model_selection import GridSearchCV\n",
        "cv = GridSearchCV(classifier,parameters,cv=5)\n",
        "cv.fit(clfx_train,clfy_train.values.ravel())"
      ],
      "metadata": {
        "id": "-ONflaZv5BF4"
      },
      "execution_count": null,
      "outputs": []
    },
    {
      "cell_type": "code",
      "source": [
        "def display(results):\n",
        "    print(f'Best parameters are: {results.best_params_}')\n",
        "    print(\"\\n\")\n",
        "    mean_score = results.cv_results_['mean_test_score']\n",
        "    std_score = results.cv_results_['std_test_score']\n",
        "    params = results.cv_results_['params']\n",
        "    for mean,std,params in zip(mean_score,std_score,params):\n",
        "        print(f'{round(mean,3)} + or -{round(std,3)} for the {params}')\n",
        "display(cv)"
      ],
      "metadata": {
        "colab": {
          "base_uri": "https://localhost:8080/"
        },
        "id": "EuagVlcS8YhF",
        "outputId": "c278f387-0379-4556-cc51-5cbf87d260d4"
      },
      "execution_count": null,
      "outputs": [
        {
          "output_type": "stream",
          "name": "stdout",
          "text": [
            "Best parameters are: {'max_depth': None, 'n_estimators': 100}\n",
            "\n",
            "\n",
            "0.284 + or -0.021 for the {'max_depth': 2, 'n_estimators': 5}\n",
            "0.387 + or -0.025 for the {'max_depth': 2, 'n_estimators': 10}\n",
            "0.646 + or -0.019 for the {'max_depth': 2, 'n_estimators': 50}\n",
            "0.727 + or -0.015 for the {'max_depth': 2, 'n_estimators': 100}\n",
            "0.81 + or -0.012 for the {'max_depth': 2, 'n_estimators': 250}\n",
            "0.406 + or -0.02 for the {'max_depth': 4, 'n_estimators': 5}\n",
            "0.477 + or -0.028 for the {'max_depth': 4, 'n_estimators': 10}\n",
            "0.743 + or -0.023 for the {'max_depth': 4, 'n_estimators': 50}\n",
            "0.806 + or -0.015 for the {'max_depth': 4, 'n_estimators': 100}\n",
            "0.839 + or -0.005 for the {'max_depth': 4, 'n_estimators': 250}\n",
            "0.505 + or -0.027 for the {'max_depth': 8, 'n_estimators': 5}\n",
            "0.636 + or -0.016 for the {'max_depth': 8, 'n_estimators': 10}\n",
            "0.807 + or -0.008 for the {'max_depth': 8, 'n_estimators': 50}\n",
            "0.842 + or -0.008 for the {'max_depth': 8, 'n_estimators': 100}\n",
            "0.86 + or -0.008 for the {'max_depth': 8, 'n_estimators': 250}\n",
            "0.633 + or -0.028 for the {'max_depth': 16, 'n_estimators': 5}\n",
            "0.722 + or -0.014 for the {'max_depth': 16, 'n_estimators': 10}\n",
            "0.848 + or -0.011 for the {'max_depth': 16, 'n_estimators': 50}\n",
            "0.866 + or -0.003 for the {'max_depth': 16, 'n_estimators': 100}\n",
            "0.875 + or -0.007 for the {'max_depth': 16, 'n_estimators': 250}\n",
            "0.699 + or -0.011 for the {'max_depth': 32, 'n_estimators': 5}\n",
            "0.795 + or -0.01 for the {'max_depth': 32, 'n_estimators': 10}\n",
            "0.866 + or -0.007 for the {'max_depth': 32, 'n_estimators': 50}\n",
            "0.875 + or -0.006 for the {'max_depth': 32, 'n_estimators': 100}\n",
            "0.885 + or -0.006 for the {'max_depth': 32, 'n_estimators': 250}\n",
            "0.744 + or -0.007 for the {'max_depth': None, 'n_estimators': 5}\n",
            "0.816 + or -0.005 for the {'max_depth': None, 'n_estimators': 10}\n",
            "0.879 + or -0.008 for the {'max_depth': None, 'n_estimators': 50}\n",
            "0.89 + or -0.005 for the {'max_depth': None, 'n_estimators': 100}\n",
            "0.887 + or -0.008 for the {'max_depth': None, 'n_estimators': 250}\n"
          ]
        }
      ]
    },
    {
      "cell_type": "code",
      "source": [
        "clf = RandomForestClassifier(n_estimators=100)\n",
        "clf.fit(clfx_train,clfy_train)"
      ],
      "metadata": {
        "colab": {
          "base_uri": "https://localhost:8080/"
        },
        "id": "-r0ew-og8quJ",
        "outputId": "ff7d7c5f-bd52-4378-fd13-b604c32c3ad1"
      },
      "execution_count": null,
      "outputs": [
        {
          "output_type": "execute_result",
          "data": {
            "text/plain": [
              "RandomForestClassifier()"
            ]
          },
          "metadata": {},
          "execution_count": 65
        }
      ]
    },
    {
      "cell_type": "code",
      "source": [
        "print(clf.score(clfx_test,clfy_test))"
      ],
      "metadata": {
        "colab": {
          "base_uri": "https://localhost:8080/"
        },
        "id": "2-cje9aQ84in",
        "outputId": "b3842666-fa6d-4238-a5ca-02362c5b6c8d"
      },
      "execution_count": null,
      "outputs": [
        {
          "output_type": "stream",
          "name": "stdout",
          "text": [
            "0.8947619047619048\n"
          ]
        }
      ]
    },
    {
      "cell_type": "markdown",
      "source": [
        "# Applying Logistic Regression"
      ],
      "metadata": {
        "id": "6Hqh9YFoT75f"
      }
    },
    {
      "cell_type": "markdown",
      "source": [
        "***Pipeline module in scikit-learn:*** is a tool that simplifies preprocessing by grouping operations in a pipe.\\\n",
        "***Pipeline Class:*** is to sequentially apply a list of transforms and a final estimator. Intermediate steps of pipeline must implement fit and tranform, and the final estimator only needst to implement fit.\\\n",
        "***Countvectorizer:*** is a method to convert text to numerical data so that the machine can deal with it. It converts the text to a sparse matrix of unique words counted using word-level tokenization.\\\n",
        "***TF:*** term frequency\\\n",
        "***IDF:*** inverse document frequency\\\n",
        "***TfidfTransformer:*** converts a collection of raw documents to a matrix of TF-IDF features. In order to start using TfidfTransformer you will first have to create a CountVectorizer to count the number of words (term frequency).\n"
      ],
      "metadata": {
        "id": "G9bemq62E6yS"
      }
    },
    {
      "cell_type": "code",
      "source": [
        "from sklearn.linear_model import LogisticRegression\n",
        "from sklearn.pipeline import Pipeline\n",
        "from sklearn.feature_extraction.text import TfidfTransformer\n",
        "from sklearn.feature_extraction.text import CountVectorizer\n",
        "from sklearn.metrics import accuracy_score\n",
        "\n",
        "logR=Pipeline([('vect',CountVectorizer()),\n",
        "             ('tfidf',TfidfTransformer()),\n",
        "             ('clf',LogisticRegression())\n",
        "             ])\n",
        "\n",
        "# logR=Pipeline([('vect',CountVectorizer(binary=True)),\n",
        "#              ('tfidf',TfidfTransformer()),\n",
        "#              ('clf',LogisticRegression())\n",
        "#              ])\n",
        "\n",
        "logR.fit(x_train,y_train) # takes 31s to run\n",
        "y_pred_logR=logR.predict(x_test)\n",
        "\n",
        "print(f'Accuracy: {accuracy_score(y_pred_logR,y_test)}')"
      ],
      "metadata": {
        "id": "sLx6TI-4TITF",
        "colab": {
          "base_uri": "https://localhost:8080/"
        },
        "outputId": "af867388-0b2b-4ca4-a34c-fb401b571dbe"
      },
      "execution_count": 35,
      "outputs": [
        {
          "output_type": "stream",
          "name": "stdout",
          "text": [
            "Accuracy: 0.9373361925184656\n"
          ]
        }
      ]
    },
    {
      "cell_type": "markdown",
      "source": [
        "# More Logistic Regression"
      ],
      "metadata": {
        "id": "p1WhvyQOvokr"
      }
    },
    {
      "cell_type": "code",
      "source": [
        "# Convert labels from categorical to numeric\n",
        "label_map={'Finance':0,'Culture':1, 'Medical':2, 'Tech':3, 'Sports': 4, 'Religion':5, 'Politics':6}\n",
        "dataset['numeric_class']=dataset['class'].apply(lambda x: label_map[x])\n",
        "dataset.numeric_class"
      ],
      "metadata": {
        "id": "1tYodTzZn-Ci",
        "colab": {
          "base_uri": "https://localhost:8080/"
        },
        "outputId": "2ab1f4ae-96b9-4138-f6a1-1bba6e7e3cef"
      },
      "execution_count": 36,
      "outputs": [
        {
          "output_type": "execute_result",
          "data": {
            "text/plain": [
              "3333     0\n",
              "11812    4\n",
              "7697     6\n",
              "9077     5\n",
              "12208    3\n",
              "        ..\n",
              "2801     0\n",
              "12661    3\n",
              "6874     6\n",
              "3770     0\n",
              "9422     5\n",
              "Name: numeric_class, Length: 13988, dtype: int64"
            ]
          },
          "metadata": {},
          "execution_count": 36
        }
      ]
    },
    {
      "cell_type": "code",
      "source": [
        "x=dataset['abstract_article']\n",
        "y=dataset['numeric_class']\n",
        "feature_train,feature_test,target_train,target_test= train_test_split(x,y,test_size=0.2,random_state=42)"
      ],
      "metadata": {
        "id": "dDj0FwiZpPlm"
      },
      "execution_count": 37,
      "outputs": []
    },
    {
      "cell_type": "markdown",
      "source": [
        "***TfidfVectorizer:*** with Tfidfvectorizer you compute the word counts, idf and tf-idf values all at once.\\\n",
        "***GridSearchCV:*** is the process of performing hyperparameter tuning in order to determine the optimal values for a given model. It’s essentially a cross-validation technique."
      ],
      "metadata": {
        "id": "oZROB6vEMlD5"
      }
    },
    {
      "cell_type": "code",
      "source": [
        "from sklearn.model_selection import GridSearchCV\n",
        "from sklearn.feature_extraction.text import TfidfVectorizer\n",
        "from sklearn.pipeline import make_pipeline\n",
        "# from sklearn.metrics import confusion_matrix, classification_report\n",
        "\n",
        "pipe=make_pipeline(TfidfVectorizer(), LogisticRegression())\n",
        "\n",
        "# Similar to fine-tuning parameters (test these values and returns the best for the classifier)\n",
        "param_grid= {'logisticregression__C': [0.01, 0.1, 1, 10, 100]}\n",
        "model= GridSearchCV(pipe, param_grid, cv=5) # takes 10min to run\n",
        "\n",
        "model.fit(feature_train,target_train)"
      ],
      "metadata": {
        "id": "2EhicA12eZxB"
      },
      "execution_count": null,
      "outputs": []
    },
    {
      "cell_type": "code",
      "source": [
        "# Performance Evaluation\n",
        "y_pred_logR2=model.predict(feature_test)\n",
        "print(f'Accuracy: {accuracy_score(y_pred_logR2,target_test):.2f}')\n",
        "# print(classification_report(y_pred_logR2, target_test))"
      ],
      "metadata": {
        "id": "KCn4toz8vZtO",
        "colab": {
          "base_uri": "https://localhost:8080/"
        },
        "outputId": "3c97343c-9e9a-4dfd-fad4-68bff2397da2"
      },
      "execution_count": 40,
      "outputs": [
        {
          "output_type": "stream",
          "name": "stdout",
          "text": [
            "Accuracy: 0.94\n"
          ]
        }
      ]
    },
    {
      "cell_type": "markdown",
      "source": [
        "# Applying Naive Bayes"
      ],
      "metadata": {
        "id": "N99xVtNsL_6x"
      }
    },
    {
      "cell_type": "markdown",
      "source": [
        "***Multinomial Naive Bayes algorithm:*** is a probabilistic learning method based on the Bayes theorem and predicts the tag of a text. It calculates the probability of each tag for a given sample and then gives the tag with the highest probability as output."
      ],
      "metadata": {
        "id": "kdjjNfmhb6ZS"
      }
    },
    {
      "cell_type": "code",
      "source": [
        "from sklearn.naive_bayes import MultinomialNB\n",
        "\n",
        "naiveB=Pipeline([('vect',CountVectorizer()),\n",
        "                 ('tfidf',TfidfTransformer()),\n",
        "                 ('clf',MultinomialNB())\n",
        "                ])\n",
        "\n",
        "naiveB.fit(x_train,y_train)\n",
        "y_pred_naiveB=naiveB.predict(x_test)\n",
        "print(f'accuracy: {accuracy_score(y_pred_naiveB,y_test)}')"
      ],
      "metadata": {
        "id": "znZp8QkSMDtc",
        "colab": {
          "base_uri": "https://localhost:8080/"
        },
        "outputId": "fa40b9f5-69d1-4b2f-a2fd-b8485fbfb3ab"
      },
      "execution_count": 41,
      "outputs": [
        {
          "output_type": "stream",
          "name": "stdout",
          "text": [
            "accuracy: 0.9239933285680247\n"
          ]
        }
      ]
    },
    {
      "cell_type": "markdown",
      "source": [
        "# Applying Neural Network"
      ],
      "metadata": {
        "id": "Twh9zK3OP_vt"
      }
    },
    {
      "cell_type": "code",
      "source": [
        "# Using less data\n",
        "x=dataset['abstract_article'][:5000]\n",
        "y=dataset['class'][:5000]\n",
        "x_train,x_test,y_train,y_test= train_test_split(x,y,test_size=0.2,random_state=42)\n",
        "x_train.shape,x_test.shape"
      ],
      "metadata": {
        "colab": {
          "base_uri": "https://localhost:8080/"
        },
        "id": "xTh67IXS3RHr",
        "outputId": "c1ce847f-5370-4535-d1ae-d572e1488cae"
      },
      "execution_count": 42,
      "outputs": [
        {
          "output_type": "execute_result",
          "data": {
            "text/plain": [
              "((4000,), (1000,))"
            ]
          },
          "metadata": {},
          "execution_count": 42
        }
      ]
    },
    {
      "cell_type": "code",
      "source": [
        "# Tokenizing and converting text to matrix\n",
        "from keras.preprocessing.text import Tokenizer\n",
        "\n",
        "tokenizer=Tokenizer(num_words=None,lower=False)\n",
        "tokenizer.fit_on_texts(x)\n",
        "\n",
        "x_train_tok=tokenizer.texts_to_matrix(x_train,mode='tfidf')\n",
        "x_test_tok=tokenizer.texts_to_matrix(x_test,mode='tfidf')"
      ],
      "metadata": {
        "id": "9fj-krZlzUFY"
      },
      "execution_count": 43,
      "outputs": []
    },
    {
      "cell_type": "code",
      "source": [
        "# One-Hot Encoding of Classes\n",
        "from sklearn.preprocessing import LabelEncoder\n",
        "import keras.preprocessing.text\n",
        "\n",
        "label_encoder = LabelEncoder()\n",
        "label_encoder.fit(y)\n",
        "y_encoded = label_encoder.fit_transform(y)\n",
        "\n",
        "num_labels = len(set(y_encoded))\n",
        "y_train_encoded = label_encoder.fit_transform(y_train) \n",
        "y_test_encoded = label_encoder.fit_transform(y_test)\n",
        "# One-Hot Encoding\n",
        "y_train_encoded_ = keras.utils.to_categorical(y_train_encoded,num_labels)\n",
        "y_test_encoded_ = keras.utils.to_categorical(y_test_encoded,num_labels)"
      ],
      "metadata": {
        "id": "J90EjeYl9Yv5"
      },
      "execution_count": 44,
      "outputs": []
    },
    {
      "cell_type": "code",
      "source": [
        "# Building Neural Network Model\n",
        "from keras.models import Sequential\n",
        "from keras.layers import Dense, Activation, Dropout\n",
        "\n",
        "max_words = len(tokenizer.word_index) + 1\n",
        "\n",
        "model=Sequential()\n",
        "model.add(Dense(1024,input_shape=(max_words,)))\n",
        "model.add(Activation('relu'))\n",
        "model.add(Dropout(0.5))\n",
        "model.add(Dense(num_labels))\n",
        "model.add(Activation('sigmoid'))"
      ],
      "metadata": {
        "id": "PAkO4q8a-zCJ"
      },
      "execution_count": 46,
      "outputs": []
    },
    {
      "cell_type": "markdown",
      "source": [
        "***categorical_crossentropy:*** Used as a loss function for multi-class classification model where there are two or more output labels. The output label is assigned one-hot category encoding value in form of 0s and 1. The output label, if present in integer form, is converted into categorical encoding using keras.utils to_categorical method."
      ],
      "metadata": {
        "id": "-lXq6fF0YH4n"
      }
    },
    {
      "cell_type": "code",
      "source": [
        "# Train\n",
        "model.compile(loss='categorical_crossentropy', optimizer='adam', metrics=['categorical_accuracy'])\n",
        "model.fit(x_train_tok, y_train_encoded_, batch_size=100, epochs=5, verbose=1, validation_split=0.1)"
      ],
      "metadata": {
        "colab": {
          "base_uri": "https://localhost:8080/"
        },
        "id": "r4XOqCEEJ0n5",
        "outputId": "242dd528-56b1-4a73-d986-69d3da999242"
      },
      "execution_count": 47,
      "outputs": [
        {
          "output_type": "stream",
          "name": "stdout",
          "text": [
            "Epoch 1/5\n",
            "36/36 [==============================] - 6s 80ms/step - loss: 0.5359 - categorical_accuracy: 0.8592 - val_loss: 0.2820 - val_categorical_accuracy: 0.9325\n",
            "Epoch 2/5\n",
            "36/36 [==============================] - 2s 61ms/step - loss: 0.0112 - categorical_accuracy: 0.9972 - val_loss: 0.2673 - val_categorical_accuracy: 0.9325\n",
            "Epoch 3/5\n",
            "36/36 [==============================] - 2s 61ms/step - loss: 5.4564e-04 - categorical_accuracy: 1.0000 - val_loss: 0.2967 - val_categorical_accuracy: 0.9225\n",
            "Epoch 4/5\n",
            "36/36 [==============================] - 2s 61ms/step - loss: 8.0951e-05 - categorical_accuracy: 1.0000 - val_loss: 0.2944 - val_categorical_accuracy: 0.9275\n",
            "Epoch 5/5\n",
            "36/36 [==============================] - 2s 59ms/step - loss: 3.6653e-05 - categorical_accuracy: 1.0000 - val_loss: 0.2862 - val_categorical_accuracy: 0.9275\n"
          ]
        },
        {
          "output_type": "execute_result",
          "data": {
            "text/plain": [
              "<keras.callbacks.History at 0x7fa383ce5b50>"
            ]
          },
          "metadata": {},
          "execution_count": 47
        }
      ]
    },
    {
      "cell_type": "code",
      "source": [
        "# Test\n",
        "eval_val = model.evaluate(x_test_tok, y_test_encoded_, verbose=0)\n",
        "print(\"Loss\\t\\t\" , 'categorical_accuracy\\t')\n",
        "print(eval_val)"
      ],
      "metadata": {
        "colab": {
          "base_uri": "https://localhost:8080/"
        },
        "id": "Ji-JmU5-LxfB",
        "outputId": "a2d60704-fcf2-44ce-dbf5-5dd0404f058f"
      },
      "execution_count": 49,
      "outputs": [
        {
          "output_type": "stream",
          "name": "stdout",
          "text": [
            "Loss\t\t categorical_accuracy\t\n",
            "[0.4528392553329468, 0.9269999861717224]\n"
          ]
        }
      ]
    }
  ],
  "metadata": {
    "accelerator": "GPU",
    "colab": {
      "provenance": []
    },
    "gpuClass": "standard",
    "kernelspec": {
      "display_name": "Python 3",
      "name": "python3"
    },
    "language_info": {
      "name": "python"
    }
  },
  "nbformat": 4,
  "nbformat_minor": 0
}